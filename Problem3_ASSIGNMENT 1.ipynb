{
 "cells": [
  {
   "cell_type": "code",
   "execution_count": 1,
   "metadata": {},
   "outputs": [],
   "source": [
    "import numpy as np\n",
    "import pandas as pd"
   ]
  },
  {
   "cell_type": "code",
   "execution_count": 4,
   "metadata": {},
   "outputs": [
    {
     "data": {
      "text/plain": [
       "array([[  8.00000000e+02,   0.00000000e+00,   3.04800000e-01,\n",
       "          7.13000000e+01,   2.66337000e-03,   1.26201000e+02],\n",
       "       [  1.00000000e+03,   0.00000000e+00,   3.04800000e-01,\n",
       "          7.13000000e+01,   2.66337000e-03,   1.25201000e+02],\n",
       "       [  1.25000000e+03,   0.00000000e+00,   3.04800000e-01,\n",
       "          7.13000000e+01,   2.66337000e-03,   1.25951000e+02],\n",
       "       ..., \n",
       "       [  4.00000000e+03,   1.56000000e+01,   1.01600000e-01,\n",
       "          3.96000000e+01,   5.28487000e-02,   1.06604000e+02],\n",
       "       [  5.00000000e+03,   1.56000000e+01,   1.01600000e-01,\n",
       "          3.96000000e+01,   5.28487000e-02,   1.06224000e+02],\n",
       "       [  6.30000000e+03,   1.56000000e+01,   1.01600000e-01,\n",
       "          3.96000000e+01,   5.28487000e-02,   1.04204000e+02]])"
      ]
     },
     "execution_count": 4,
     "metadata": {},
     "output_type": "execute_result"
    }
   ],
   "source": [
    "np.loadtxt('airfoil_self_noise.dat', delimiter = None)"
   ]
  },
  {
   "cell_type": "code",
   "execution_count": 5,
   "metadata": {
    "collapsed": true
   },
   "outputs": [],
   "source": [
    "data = np.loadtxt('airfoil_self_noise.dat', delimiter = None)"
   ]
  },
  {
   "cell_type": "code",
   "execution_count": 8,
   "metadata": {},
   "outputs": [
    {
     "data": {
      "text/plain": [
       "array([  8.00000000e+02,   0.00000000e+00,   3.04800000e-01,\n",
       "         7.13000000e+01,   2.66337000e-03,   1.26201000e+02])"
      ]
     },
     "execution_count": 8,
     "metadata": {},
     "output_type": "execute_result"
    }
   ],
   "source": [
    "data[0]"
   ]
  },
  {
   "cell_type": "code",
   "execution_count": 12,
   "metadata": {},
   "outputs": [
    {
     "data": {
      "text/plain": [
       "2886.3805721889553"
      ]
     },
     "execution_count": 12,
     "metadata": {},
     "output_type": "execute_result"
    }
   ],
   "source": [
    "data[:,0].mean()"
   ]
  },
  {
   "cell_type": "code",
   "execution_count": 13,
   "metadata": {},
   "outputs": [
    {
     "data": {
      "text/plain": [
       "6.7823020625415831"
      ]
     },
     "execution_count": 13,
     "metadata": {},
     "output_type": "execute_result"
    }
   ],
   "source": [
    "data[:,1].mean()"
   ]
  },
  {
   "cell_type": "code",
   "execution_count": 15,
   "metadata": {},
   "outputs": [
    {
     "data": {
      "text/plain": [
       "0.13654823685961412"
      ]
     },
     "execution_count": 15,
     "metadata": {},
     "output_type": "execute_result"
    }
   ],
   "source": [
    "data[:,2].mean()"
   ]
  },
  {
   "cell_type": "code",
   "execution_count": 16,
   "metadata": {
    "scrolled": true
   },
   "outputs": [
    {
     "data": {
      "text/plain": [
       "50.860745176314047"
      ]
     },
     "execution_count": 16,
     "metadata": {},
     "output_type": "execute_result"
    }
   ],
   "source": [
    "data[:,3].mean()"
   ]
  },
  {
   "cell_type": "code",
   "execution_count": 17,
   "metadata": {},
   "outputs": [
    {
     "data": {
      "text/plain": [
       "9932104.7972805779"
      ]
     },
     "execution_count": 17,
     "metadata": {},
     "output_type": "execute_result"
    }
   ],
   "source": [
    "data[:,0].var()"
   ]
  },
  {
   "cell_type": "code",
   "execution_count": 18,
   "metadata": {},
   "outputs": [
    {
     "data": {
      "text/plain": [
       "35.000937614679707"
      ]
     },
     "execution_count": 18,
     "metadata": {},
     "output_type": "execute_result"
    }
   ],
   "source": [
    "data[:,1].var()"
   ]
  },
  {
   "cell_type": "code",
   "execution_count": 22,
   "metadata": {},
   "outputs": [
    {
     "data": {
      "text/html": [
       "<div>\n",
       "<style>\n",
       "    .dataframe thead tr:only-child th {\n",
       "        text-align: right;\n",
       "    }\n",
       "\n",
       "    .dataframe thead th {\n",
       "        text-align: left;\n",
       "    }\n",
       "\n",
       "    .dataframe tbody tr th {\n",
       "        vertical-align: top;\n",
       "    }\n",
       "</style>\n",
       "<table border=\"1\" class=\"dataframe\">\n",
       "  <thead>\n",
       "    <tr style=\"text-align: right;\">\n",
       "      <th></th>\n",
       "      <th>Angle of Attack</th>\n",
       "      <th>Chord length</th>\n",
       "      <th>Free stream velocity</th>\n",
       "      <th>Frequency</th>\n",
       "      <th>Scaled sound Pressure</th>\n",
       "      <th>Suction Side displacement thickness</th>\n",
       "    </tr>\n",
       "  </thead>\n",
       "  <tbody>\n",
       "    <tr>\n",
       "      <th>0</th>\n",
       "      <td>0.0</td>\n",
       "      <td>0.3048</td>\n",
       "      <td>71.3</td>\n",
       "      <td>800.0</td>\n",
       "      <td>126.201</td>\n",
       "      <td>0.002663</td>\n",
       "    </tr>\n",
       "    <tr>\n",
       "      <th>1</th>\n",
       "      <td>0.0</td>\n",
       "      <td>0.3048</td>\n",
       "      <td>71.3</td>\n",
       "      <td>1000.0</td>\n",
       "      <td>125.201</td>\n",
       "      <td>0.002663</td>\n",
       "    </tr>\n",
       "    <tr>\n",
       "      <th>2</th>\n",
       "      <td>0.0</td>\n",
       "      <td>0.3048</td>\n",
       "      <td>71.3</td>\n",
       "      <td>1250.0</td>\n",
       "      <td>125.951</td>\n",
       "      <td>0.002663</td>\n",
       "    </tr>\n",
       "    <tr>\n",
       "      <th>3</th>\n",
       "      <td>0.0</td>\n",
       "      <td>0.3048</td>\n",
       "      <td>71.3</td>\n",
       "      <td>1600.0</td>\n",
       "      <td>127.591</td>\n",
       "      <td>0.002663</td>\n",
       "    </tr>\n",
       "    <tr>\n",
       "      <th>4</th>\n",
       "      <td>0.0</td>\n",
       "      <td>0.3048</td>\n",
       "      <td>71.3</td>\n",
       "      <td>2000.0</td>\n",
       "      <td>127.461</td>\n",
       "      <td>0.002663</td>\n",
       "    </tr>\n",
       "    <tr>\n",
       "      <th>5</th>\n",
       "      <td>0.0</td>\n",
       "      <td>0.3048</td>\n",
       "      <td>71.3</td>\n",
       "      <td>2500.0</td>\n",
       "      <td>125.571</td>\n",
       "      <td>0.002663</td>\n",
       "    </tr>\n",
       "    <tr>\n",
       "      <th>6</th>\n",
       "      <td>0.0</td>\n",
       "      <td>0.3048</td>\n",
       "      <td>71.3</td>\n",
       "      <td>3150.0</td>\n",
       "      <td>125.201</td>\n",
       "      <td>0.002663</td>\n",
       "    </tr>\n",
       "    <tr>\n",
       "      <th>7</th>\n",
       "      <td>0.0</td>\n",
       "      <td>0.3048</td>\n",
       "      <td>71.3</td>\n",
       "      <td>4000.0</td>\n",
       "      <td>123.061</td>\n",
       "      <td>0.002663</td>\n",
       "    </tr>\n",
       "    <tr>\n",
       "      <th>8</th>\n",
       "      <td>0.0</td>\n",
       "      <td>0.3048</td>\n",
       "      <td>71.3</td>\n",
       "      <td>5000.0</td>\n",
       "      <td>121.301</td>\n",
       "      <td>0.002663</td>\n",
       "    </tr>\n",
       "    <tr>\n",
       "      <th>9</th>\n",
       "      <td>0.0</td>\n",
       "      <td>0.3048</td>\n",
       "      <td>71.3</td>\n",
       "      <td>6300.0</td>\n",
       "      <td>119.541</td>\n",
       "      <td>0.002663</td>\n",
       "    </tr>\n",
       "    <tr>\n",
       "      <th>10</th>\n",
       "      <td>0.0</td>\n",
       "      <td>0.3048</td>\n",
       "      <td>71.3</td>\n",
       "      <td>8000.0</td>\n",
       "      <td>117.151</td>\n",
       "      <td>0.002663</td>\n",
       "    </tr>\n",
       "    <tr>\n",
       "      <th>11</th>\n",
       "      <td>0.0</td>\n",
       "      <td>0.3048</td>\n",
       "      <td>71.3</td>\n",
       "      <td>10000.0</td>\n",
       "      <td>115.391</td>\n",
       "      <td>0.002663</td>\n",
       "    </tr>\n",
       "    <tr>\n",
       "      <th>12</th>\n",
       "      <td>0.0</td>\n",
       "      <td>0.3048</td>\n",
       "      <td>71.3</td>\n",
       "      <td>12500.0</td>\n",
       "      <td>112.241</td>\n",
       "      <td>0.002663</td>\n",
       "    </tr>\n",
       "    <tr>\n",
       "      <th>13</th>\n",
       "      <td>0.0</td>\n",
       "      <td>0.3048</td>\n",
       "      <td>71.3</td>\n",
       "      <td>16000.0</td>\n",
       "      <td>108.721</td>\n",
       "      <td>0.002663</td>\n",
       "    </tr>\n",
       "    <tr>\n",
       "      <th>14</th>\n",
       "      <td>0.0</td>\n",
       "      <td>0.3048</td>\n",
       "      <td>55.5</td>\n",
       "      <td>500.0</td>\n",
       "      <td>126.416</td>\n",
       "      <td>0.002831</td>\n",
       "    </tr>\n",
       "    <tr>\n",
       "      <th>15</th>\n",
       "      <td>0.0</td>\n",
       "      <td>0.3048</td>\n",
       "      <td>55.5</td>\n",
       "      <td>630.0</td>\n",
       "      <td>127.696</td>\n",
       "      <td>0.002831</td>\n",
       "    </tr>\n",
       "    <tr>\n",
       "      <th>16</th>\n",
       "      <td>0.0</td>\n",
       "      <td>0.3048</td>\n",
       "      <td>55.5</td>\n",
       "      <td>800.0</td>\n",
       "      <td>128.086</td>\n",
       "      <td>0.002831</td>\n",
       "    </tr>\n",
       "    <tr>\n",
       "      <th>17</th>\n",
       "      <td>0.0</td>\n",
       "      <td>0.3048</td>\n",
       "      <td>55.5</td>\n",
       "      <td>1000.0</td>\n",
       "      <td>126.966</td>\n",
       "      <td>0.002831</td>\n",
       "    </tr>\n",
       "    <tr>\n",
       "      <th>18</th>\n",
       "      <td>0.0</td>\n",
       "      <td>0.3048</td>\n",
       "      <td>55.5</td>\n",
       "      <td>1250.0</td>\n",
       "      <td>126.086</td>\n",
       "      <td>0.002831</td>\n",
       "    </tr>\n",
       "    <tr>\n",
       "      <th>19</th>\n",
       "      <td>0.0</td>\n",
       "      <td>0.3048</td>\n",
       "      <td>55.5</td>\n",
       "      <td>1600.0</td>\n",
       "      <td>126.986</td>\n",
       "      <td>0.002831</td>\n",
       "    </tr>\n",
       "    <tr>\n",
       "      <th>20</th>\n",
       "      <td>0.0</td>\n",
       "      <td>0.3048</td>\n",
       "      <td>55.5</td>\n",
       "      <td>2000.0</td>\n",
       "      <td>126.616</td>\n",
       "      <td>0.002831</td>\n",
       "    </tr>\n",
       "    <tr>\n",
       "      <th>21</th>\n",
       "      <td>0.0</td>\n",
       "      <td>0.3048</td>\n",
       "      <td>55.5</td>\n",
       "      <td>2500.0</td>\n",
       "      <td>124.106</td>\n",
       "      <td>0.002831</td>\n",
       "    </tr>\n",
       "    <tr>\n",
       "      <th>22</th>\n",
       "      <td>0.0</td>\n",
       "      <td>0.3048</td>\n",
       "      <td>55.5</td>\n",
       "      <td>3150.0</td>\n",
       "      <td>123.236</td>\n",
       "      <td>0.002831</td>\n",
       "    </tr>\n",
       "    <tr>\n",
       "      <th>23</th>\n",
       "      <td>0.0</td>\n",
       "      <td>0.3048</td>\n",
       "      <td>55.5</td>\n",
       "      <td>4000.0</td>\n",
       "      <td>121.106</td>\n",
       "      <td>0.002831</td>\n",
       "    </tr>\n",
       "    <tr>\n",
       "      <th>24</th>\n",
       "      <td>0.0</td>\n",
       "      <td>0.3048</td>\n",
       "      <td>55.5</td>\n",
       "      <td>5000.0</td>\n",
       "      <td>119.606</td>\n",
       "      <td>0.002831</td>\n",
       "    </tr>\n",
       "    <tr>\n",
       "      <th>25</th>\n",
       "      <td>0.0</td>\n",
       "      <td>0.3048</td>\n",
       "      <td>55.5</td>\n",
       "      <td>6300.0</td>\n",
       "      <td>117.976</td>\n",
       "      <td>0.002831</td>\n",
       "    </tr>\n",
       "    <tr>\n",
       "      <th>26</th>\n",
       "      <td>0.0</td>\n",
       "      <td>0.3048</td>\n",
       "      <td>55.5</td>\n",
       "      <td>8000.0</td>\n",
       "      <td>116.476</td>\n",
       "      <td>0.002831</td>\n",
       "    </tr>\n",
       "    <tr>\n",
       "      <th>27</th>\n",
       "      <td>0.0</td>\n",
       "      <td>0.3048</td>\n",
       "      <td>55.5</td>\n",
       "      <td>10000.0</td>\n",
       "      <td>113.076</td>\n",
       "      <td>0.002831</td>\n",
       "    </tr>\n",
       "    <tr>\n",
       "      <th>28</th>\n",
       "      <td>0.0</td>\n",
       "      <td>0.3048</td>\n",
       "      <td>55.5</td>\n",
       "      <td>12500.0</td>\n",
       "      <td>111.076</td>\n",
       "      <td>0.002831</td>\n",
       "    </tr>\n",
       "    <tr>\n",
       "      <th>29</th>\n",
       "      <td>0.0</td>\n",
       "      <td>0.3048</td>\n",
       "      <td>39.6</td>\n",
       "      <td>200.0</td>\n",
       "      <td>118.129</td>\n",
       "      <td>0.003101</td>\n",
       "    </tr>\n",
       "    <tr>\n",
       "      <th>...</th>\n",
       "      <td>...</td>\n",
       "      <td>...</td>\n",
       "      <td>...</td>\n",
       "      <td>...</td>\n",
       "      <td>...</td>\n",
       "      <td>...</td>\n",
       "    </tr>\n",
       "    <tr>\n",
       "      <th>1473</th>\n",
       "      <td>15.6</td>\n",
       "      <td>0.1016</td>\n",
       "      <td>71.3</td>\n",
       "      <td>200.0</td>\n",
       "      <td>130.898</td>\n",
       "      <td>0.043726</td>\n",
       "    </tr>\n",
       "    <tr>\n",
       "      <th>1474</th>\n",
       "      <td>15.6</td>\n",
       "      <td>0.1016</td>\n",
       "      <td>71.3</td>\n",
       "      <td>250.0</td>\n",
       "      <td>132.158</td>\n",
       "      <td>0.043726</td>\n",
       "    </tr>\n",
       "    <tr>\n",
       "      <th>1475</th>\n",
       "      <td>15.6</td>\n",
       "      <td>0.1016</td>\n",
       "      <td>71.3</td>\n",
       "      <td>315.0</td>\n",
       "      <td>133.808</td>\n",
       "      <td>0.043726</td>\n",
       "    </tr>\n",
       "    <tr>\n",
       "      <th>1476</th>\n",
       "      <td>15.6</td>\n",
       "      <td>0.1016</td>\n",
       "      <td>71.3</td>\n",
       "      <td>400.0</td>\n",
       "      <td>134.058</td>\n",
       "      <td>0.043726</td>\n",
       "    </tr>\n",
       "    <tr>\n",
       "      <th>1477</th>\n",
       "      <td>15.6</td>\n",
       "      <td>0.1016</td>\n",
       "      <td>71.3</td>\n",
       "      <td>500.0</td>\n",
       "      <td>130.638</td>\n",
       "      <td>0.043726</td>\n",
       "    </tr>\n",
       "    <tr>\n",
       "      <th>1478</th>\n",
       "      <td>15.6</td>\n",
       "      <td>0.1016</td>\n",
       "      <td>71.3</td>\n",
       "      <td>630.0</td>\n",
       "      <td>122.288</td>\n",
       "      <td>0.043726</td>\n",
       "    </tr>\n",
       "    <tr>\n",
       "      <th>1479</th>\n",
       "      <td>15.6</td>\n",
       "      <td>0.1016</td>\n",
       "      <td>71.3</td>\n",
       "      <td>800.0</td>\n",
       "      <td>124.188</td>\n",
       "      <td>0.043726</td>\n",
       "    </tr>\n",
       "    <tr>\n",
       "      <th>1480</th>\n",
       "      <td>15.6</td>\n",
       "      <td>0.1016</td>\n",
       "      <td>71.3</td>\n",
       "      <td>1000.0</td>\n",
       "      <td>124.438</td>\n",
       "      <td>0.043726</td>\n",
       "    </tr>\n",
       "    <tr>\n",
       "      <th>1481</th>\n",
       "      <td>15.6</td>\n",
       "      <td>0.1016</td>\n",
       "      <td>71.3</td>\n",
       "      <td>1250.0</td>\n",
       "      <td>123.178</td>\n",
       "      <td>0.043726</td>\n",
       "    </tr>\n",
       "    <tr>\n",
       "      <th>1482</th>\n",
       "      <td>15.6</td>\n",
       "      <td>0.1016</td>\n",
       "      <td>71.3</td>\n",
       "      <td>1600.0</td>\n",
       "      <td>121.528</td>\n",
       "      <td>0.043726</td>\n",
       "    </tr>\n",
       "    <tr>\n",
       "      <th>1483</th>\n",
       "      <td>15.6</td>\n",
       "      <td>0.1016</td>\n",
       "      <td>71.3</td>\n",
       "      <td>2000.0</td>\n",
       "      <td>119.888</td>\n",
       "      <td>0.043726</td>\n",
       "    </tr>\n",
       "    <tr>\n",
       "      <th>1484</th>\n",
       "      <td>15.6</td>\n",
       "      <td>0.1016</td>\n",
       "      <td>71.3</td>\n",
       "      <td>2500.0</td>\n",
       "      <td>118.998</td>\n",
       "      <td>0.043726</td>\n",
       "    </tr>\n",
       "    <tr>\n",
       "      <th>1485</th>\n",
       "      <td>15.6</td>\n",
       "      <td>0.1016</td>\n",
       "      <td>71.3</td>\n",
       "      <td>3150.0</td>\n",
       "      <td>116.468</td>\n",
       "      <td>0.043726</td>\n",
       "    </tr>\n",
       "    <tr>\n",
       "      <th>1486</th>\n",
       "      <td>15.6</td>\n",
       "      <td>0.1016</td>\n",
       "      <td>71.3</td>\n",
       "      <td>4000.0</td>\n",
       "      <td>113.298</td>\n",
       "      <td>0.043726</td>\n",
       "    </tr>\n",
       "    <tr>\n",
       "      <th>1487</th>\n",
       "      <td>15.6</td>\n",
       "      <td>0.1016</td>\n",
       "      <td>39.6</td>\n",
       "      <td>200.0</td>\n",
       "      <td>123.514</td>\n",
       "      <td>0.052849</td>\n",
       "    </tr>\n",
       "    <tr>\n",
       "      <th>1488</th>\n",
       "      <td>15.6</td>\n",
       "      <td>0.1016</td>\n",
       "      <td>39.6</td>\n",
       "      <td>250.0</td>\n",
       "      <td>124.644</td>\n",
       "      <td>0.052849</td>\n",
       "    </tr>\n",
       "    <tr>\n",
       "      <th>1489</th>\n",
       "      <td>15.6</td>\n",
       "      <td>0.1016</td>\n",
       "      <td>39.6</td>\n",
       "      <td>315.0</td>\n",
       "      <td>122.754</td>\n",
       "      <td>0.052849</td>\n",
       "    </tr>\n",
       "    <tr>\n",
       "      <th>1490</th>\n",
       "      <td>15.6</td>\n",
       "      <td>0.1016</td>\n",
       "      <td>39.6</td>\n",
       "      <td>400.0</td>\n",
       "      <td>120.484</td>\n",
       "      <td>0.052849</td>\n",
       "    </tr>\n",
       "    <tr>\n",
       "      <th>1491</th>\n",
       "      <td>15.6</td>\n",
       "      <td>0.1016</td>\n",
       "      <td>39.6</td>\n",
       "      <td>500.0</td>\n",
       "      <td>115.304</td>\n",
       "      <td>0.052849</td>\n",
       "    </tr>\n",
       "    <tr>\n",
       "      <th>1492</th>\n",
       "      <td>15.6</td>\n",
       "      <td>0.1016</td>\n",
       "      <td>39.6</td>\n",
       "      <td>630.0</td>\n",
       "      <td>118.084</td>\n",
       "      <td>0.052849</td>\n",
       "    </tr>\n",
       "    <tr>\n",
       "      <th>1493</th>\n",
       "      <td>15.6</td>\n",
       "      <td>0.1016</td>\n",
       "      <td>39.6</td>\n",
       "      <td>800.0</td>\n",
       "      <td>118.964</td>\n",
       "      <td>0.052849</td>\n",
       "    </tr>\n",
       "    <tr>\n",
       "      <th>1494</th>\n",
       "      <td>15.6</td>\n",
       "      <td>0.1016</td>\n",
       "      <td>39.6</td>\n",
       "      <td>1000.0</td>\n",
       "      <td>119.224</td>\n",
       "      <td>0.052849</td>\n",
       "    </tr>\n",
       "    <tr>\n",
       "      <th>1495</th>\n",
       "      <td>15.6</td>\n",
       "      <td>0.1016</td>\n",
       "      <td>39.6</td>\n",
       "      <td>1250.0</td>\n",
       "      <td>118.214</td>\n",
       "      <td>0.052849</td>\n",
       "    </tr>\n",
       "    <tr>\n",
       "      <th>1496</th>\n",
       "      <td>15.6</td>\n",
       "      <td>0.1016</td>\n",
       "      <td>39.6</td>\n",
       "      <td>1600.0</td>\n",
       "      <td>114.554</td>\n",
       "      <td>0.052849</td>\n",
       "    </tr>\n",
       "    <tr>\n",
       "      <th>1497</th>\n",
       "      <td>15.6</td>\n",
       "      <td>0.1016</td>\n",
       "      <td>39.6</td>\n",
       "      <td>2000.0</td>\n",
       "      <td>110.894</td>\n",
       "      <td>0.052849</td>\n",
       "    </tr>\n",
       "    <tr>\n",
       "      <th>1498</th>\n",
       "      <td>15.6</td>\n",
       "      <td>0.1016</td>\n",
       "      <td>39.6</td>\n",
       "      <td>2500.0</td>\n",
       "      <td>110.264</td>\n",
       "      <td>0.052849</td>\n",
       "    </tr>\n",
       "    <tr>\n",
       "      <th>1499</th>\n",
       "      <td>15.6</td>\n",
       "      <td>0.1016</td>\n",
       "      <td>39.6</td>\n",
       "      <td>3150.0</td>\n",
       "      <td>109.254</td>\n",
       "      <td>0.052849</td>\n",
       "    </tr>\n",
       "    <tr>\n",
       "      <th>1500</th>\n",
       "      <td>15.6</td>\n",
       "      <td>0.1016</td>\n",
       "      <td>39.6</td>\n",
       "      <td>4000.0</td>\n",
       "      <td>106.604</td>\n",
       "      <td>0.052849</td>\n",
       "    </tr>\n",
       "    <tr>\n",
       "      <th>1501</th>\n",
       "      <td>15.6</td>\n",
       "      <td>0.1016</td>\n",
       "      <td>39.6</td>\n",
       "      <td>5000.0</td>\n",
       "      <td>106.224</td>\n",
       "      <td>0.052849</td>\n",
       "    </tr>\n",
       "    <tr>\n",
       "      <th>1502</th>\n",
       "      <td>15.6</td>\n",
       "      <td>0.1016</td>\n",
       "      <td>39.6</td>\n",
       "      <td>6300.0</td>\n",
       "      <td>104.204</td>\n",
       "      <td>0.052849</td>\n",
       "    </tr>\n",
       "  </tbody>\n",
       "</table>\n",
       "<p>1503 rows × 6 columns</p>\n",
       "</div>"
      ],
      "text/plain": [
       "      Angle of Attack  Chord length  Free stream velocity  Frequency  \\\n",
       "0                 0.0        0.3048                  71.3      800.0   \n",
       "1                 0.0        0.3048                  71.3     1000.0   \n",
       "2                 0.0        0.3048                  71.3     1250.0   \n",
       "3                 0.0        0.3048                  71.3     1600.0   \n",
       "4                 0.0        0.3048                  71.3     2000.0   \n",
       "5                 0.0        0.3048                  71.3     2500.0   \n",
       "6                 0.0        0.3048                  71.3     3150.0   \n",
       "7                 0.0        0.3048                  71.3     4000.0   \n",
       "8                 0.0        0.3048                  71.3     5000.0   \n",
       "9                 0.0        0.3048                  71.3     6300.0   \n",
       "10                0.0        0.3048                  71.3     8000.0   \n",
       "11                0.0        0.3048                  71.3    10000.0   \n",
       "12                0.0        0.3048                  71.3    12500.0   \n",
       "13                0.0        0.3048                  71.3    16000.0   \n",
       "14                0.0        0.3048                  55.5      500.0   \n",
       "15                0.0        0.3048                  55.5      630.0   \n",
       "16                0.0        0.3048                  55.5      800.0   \n",
       "17                0.0        0.3048                  55.5     1000.0   \n",
       "18                0.0        0.3048                  55.5     1250.0   \n",
       "19                0.0        0.3048                  55.5     1600.0   \n",
       "20                0.0        0.3048                  55.5     2000.0   \n",
       "21                0.0        0.3048                  55.5     2500.0   \n",
       "22                0.0        0.3048                  55.5     3150.0   \n",
       "23                0.0        0.3048                  55.5     4000.0   \n",
       "24                0.0        0.3048                  55.5     5000.0   \n",
       "25                0.0        0.3048                  55.5     6300.0   \n",
       "26                0.0        0.3048                  55.5     8000.0   \n",
       "27                0.0        0.3048                  55.5    10000.0   \n",
       "28                0.0        0.3048                  55.5    12500.0   \n",
       "29                0.0        0.3048                  39.6      200.0   \n",
       "...               ...           ...                   ...        ...   \n",
       "1473             15.6        0.1016                  71.3      200.0   \n",
       "1474             15.6        0.1016                  71.3      250.0   \n",
       "1475             15.6        0.1016                  71.3      315.0   \n",
       "1476             15.6        0.1016                  71.3      400.0   \n",
       "1477             15.6        0.1016                  71.3      500.0   \n",
       "1478             15.6        0.1016                  71.3      630.0   \n",
       "1479             15.6        0.1016                  71.3      800.0   \n",
       "1480             15.6        0.1016                  71.3     1000.0   \n",
       "1481             15.6        0.1016                  71.3     1250.0   \n",
       "1482             15.6        0.1016                  71.3     1600.0   \n",
       "1483             15.6        0.1016                  71.3     2000.0   \n",
       "1484             15.6        0.1016                  71.3     2500.0   \n",
       "1485             15.6        0.1016                  71.3     3150.0   \n",
       "1486             15.6        0.1016                  71.3     4000.0   \n",
       "1487             15.6        0.1016                  39.6      200.0   \n",
       "1488             15.6        0.1016                  39.6      250.0   \n",
       "1489             15.6        0.1016                  39.6      315.0   \n",
       "1490             15.6        0.1016                  39.6      400.0   \n",
       "1491             15.6        0.1016                  39.6      500.0   \n",
       "1492             15.6        0.1016                  39.6      630.0   \n",
       "1493             15.6        0.1016                  39.6      800.0   \n",
       "1494             15.6        0.1016                  39.6     1000.0   \n",
       "1495             15.6        0.1016                  39.6     1250.0   \n",
       "1496             15.6        0.1016                  39.6     1600.0   \n",
       "1497             15.6        0.1016                  39.6     2000.0   \n",
       "1498             15.6        0.1016                  39.6     2500.0   \n",
       "1499             15.6        0.1016                  39.6     3150.0   \n",
       "1500             15.6        0.1016                  39.6     4000.0   \n",
       "1501             15.6        0.1016                  39.6     5000.0   \n",
       "1502             15.6        0.1016                  39.6     6300.0   \n",
       "\n",
       "      Scaled sound Pressure  Suction Side displacement thickness  \n",
       "0                   126.201                             0.002663  \n",
       "1                   125.201                             0.002663  \n",
       "2                   125.951                             0.002663  \n",
       "3                   127.591                             0.002663  \n",
       "4                   127.461                             0.002663  \n",
       "5                   125.571                             0.002663  \n",
       "6                   125.201                             0.002663  \n",
       "7                   123.061                             0.002663  \n",
       "8                   121.301                             0.002663  \n",
       "9                   119.541                             0.002663  \n",
       "10                  117.151                             0.002663  \n",
       "11                  115.391                             0.002663  \n",
       "12                  112.241                             0.002663  \n",
       "13                  108.721                             0.002663  \n",
       "14                  126.416                             0.002831  \n",
       "15                  127.696                             0.002831  \n",
       "16                  128.086                             0.002831  \n",
       "17                  126.966                             0.002831  \n",
       "18                  126.086                             0.002831  \n",
       "19                  126.986                             0.002831  \n",
       "20                  126.616                             0.002831  \n",
       "21                  124.106                             0.002831  \n",
       "22                  123.236                             0.002831  \n",
       "23                  121.106                             0.002831  \n",
       "24                  119.606                             0.002831  \n",
       "25                  117.976                             0.002831  \n",
       "26                  116.476                             0.002831  \n",
       "27                  113.076                             0.002831  \n",
       "28                  111.076                             0.002831  \n",
       "29                  118.129                             0.003101  \n",
       "...                     ...                                  ...  \n",
       "1473                130.898                             0.043726  \n",
       "1474                132.158                             0.043726  \n",
       "1475                133.808                             0.043726  \n",
       "1476                134.058                             0.043726  \n",
       "1477                130.638                             0.043726  \n",
       "1478                122.288                             0.043726  \n",
       "1479                124.188                             0.043726  \n",
       "1480                124.438                             0.043726  \n",
       "1481                123.178                             0.043726  \n",
       "1482                121.528                             0.043726  \n",
       "1483                119.888                             0.043726  \n",
       "1484                118.998                             0.043726  \n",
       "1485                116.468                             0.043726  \n",
       "1486                113.298                             0.043726  \n",
       "1487                123.514                             0.052849  \n",
       "1488                124.644                             0.052849  \n",
       "1489                122.754                             0.052849  \n",
       "1490                120.484                             0.052849  \n",
       "1491                115.304                             0.052849  \n",
       "1492                118.084                             0.052849  \n",
       "1493                118.964                             0.052849  \n",
       "1494                119.224                             0.052849  \n",
       "1495                118.214                             0.052849  \n",
       "1496                114.554                             0.052849  \n",
       "1497                110.894                             0.052849  \n",
       "1498                110.264                             0.052849  \n",
       "1499                109.254                             0.052849  \n",
       "1500                106.604                             0.052849  \n",
       "1501                106.224                             0.052849  \n",
       "1502                104.204                             0.052849  \n",
       "\n",
       "[1503 rows x 6 columns]"
      ]
     },
     "execution_count": 22,
     "metadata": {},
     "output_type": "execute_result"
    }
   ],
   "source": [
    "d = {'Frequency':data[:,0], 'Angle of Attack':data[:,1], 'Chord length':data[:,2], 'Free stream velocity':data[:,3], 'Suction Side displacement thickness':data[:,4], 'Scaled sound Pressure':data[:,5]}\n",
    "df = pd.DataFrame(data=d)\n",
    "df"
   ]
  },
  {
   "cell_type": "code",
   "execution_count": 23,
   "metadata": {},
   "outputs": [
    {
     "data": {
      "text/plain": [
       "Angle of Attack                           6.782302\n",
       "Chord length                              0.136548\n",
       "Free stream velocity                     50.860745\n",
       "Frequency                              2886.380572\n",
       "Scaled sound Pressure                   124.835943\n",
       "Suction Side displacement thickness       0.011140\n",
       "dtype: float64"
      ]
     },
     "execution_count": 23,
     "metadata": {},
     "output_type": "execute_result"
    }
   ],
   "source": [
    "df.mean()"
   ]
  },
  {
   "cell_type": "code",
   "execution_count": 24,
   "metadata": {},
   "outputs": [
    {
     "data": {
      "text/plain": [
       "Angle of Attack                        3.502424e+01\n",
       "Chord length                           8.749868e-03\n",
       "Free stream velocity                   2.425116e+02\n",
       "Frequency                              9.938717e+06\n",
       "Scaled sound Pressure                  4.759146e+01\n",
       "Suction Side displacement thickness    1.729287e-04\n",
       "dtype: float64"
      ]
     },
     "execution_count": 24,
     "metadata": {},
     "output_type": "execute_result"
    }
   ],
   "source": [
    "df.var()"
   ]
  },
  {
   "cell_type": "code",
   "execution_count": 25,
   "metadata": {},
   "outputs": [
    {
     "data": {
      "text/plain": [
       "Angle of Attack                           5.400000\n",
       "Chord length                              0.101600\n",
       "Free stream velocity                     39.600000\n",
       "Frequency                              1600.000000\n",
       "Scaled sound Pressure                   125.721000\n",
       "Suction Side displacement thickness       0.004957\n",
       "dtype: float64"
      ]
     },
     "execution_count": 25,
     "metadata": {},
     "output_type": "execute_result"
    }
   ],
   "source": [
    "df.median()"
   ]
  },
  {
   "cell_type": "code",
   "execution_count": 26,
   "metadata": {},
   "outputs": [
    {
     "data": {
      "text/plain": [
       "Angle of Attack                       -0.412951\n",
       "Chord length                          -1.037964\n",
       "Free stream velocity                  -1.563951\n",
       "Frequency                              5.708685\n",
       "Scaled sound Pressure                 -0.314187\n",
       "Suction Side displacement thickness    2.218903\n",
       "dtype: float64"
      ]
     },
     "execution_count": 26,
     "metadata": {},
     "output_type": "execute_result"
    }
   ],
   "source": [
    "df.kurt()"
   ]
  },
  {
   "cell_type": "code",
   "execution_count": 27,
   "metadata": {},
   "outputs": [
    {
     "data": {
      "text/plain": [
       "Angle of Attack                        0.689164\n",
       "Chord length                           0.457457\n",
       "Free stream velocity                   0.235852\n",
       "Frequency                              2.137084\n",
       "Scaled sound Pressure                 -0.418952\n",
       "Suction Side displacement thickness    1.702165\n",
       "dtype: float64"
      ]
     },
     "execution_count": 27,
     "metadata": {},
     "output_type": "execute_result"
    }
   ],
   "source": [
    "df.skew()"
   ]
  },
  {
   "cell_type": "code",
   "execution_count": 29,
   "metadata": {},
   "outputs": [
    {
     "data": {
      "text/plain": [
       "Angle of Attack                          0.000000\n",
       "Chord length                             0.025400\n",
       "Free stream velocity                    31.700000\n",
       "Frequency                              200.000000\n",
       "Scaled sound Pressure                  103.380000\n",
       "Suction Side displacement thickness      0.000401\n",
       "dtype: float64"
      ]
     },
     "execution_count": 29,
     "metadata": {},
     "output_type": "execute_result"
    }
   ],
   "source": [
    "df.min()"
   ]
  },
  {
   "cell_type": "code",
   "execution_count": 30,
   "metadata": {},
   "outputs": [
    {
     "data": {
      "text/plain": [
       "Angle of Attack                           22.200000\n",
       "Chord length                               0.304800\n",
       "Free stream velocity                      71.300000\n",
       "Frequency                              20000.000000\n",
       "Scaled sound Pressure                    140.987000\n",
       "Suction Side displacement thickness        0.058411\n",
       "dtype: float64"
      ]
     },
     "execution_count": 30,
     "metadata": {},
     "output_type": "execute_result"
    }
   ],
   "source": [
    "df.max()"
   ]
  },
  {
   "cell_type": "code",
   "execution_count": 31,
   "metadata": {},
   "outputs": [
    {
     "data": {
      "text/plain": [
       "Angle of Attack                           22.200000\n",
       "Chord length                               0.279400\n",
       "Free stream velocity                      39.600000\n",
       "Frequency                              19800.000000\n",
       "Scaled sound Pressure                     37.607000\n",
       "Suction Side displacement thickness        0.058011\n",
       "dtype: float64"
      ]
     },
     "execution_count": 31,
     "metadata": {},
     "output_type": "execute_result"
    }
   ],
   "source": [
    "df.max() - df.min()"
   ]
  },
  {
   "cell_type": "code",
   "execution_count": null,
   "metadata": {
    "collapsed": true
   },
   "outputs": [],
   "source": []
  }
 ],
 "metadata": {
  "kernelspec": {
   "display_name": "Python 2",
   "language": "python",
   "name": "python2"
  },
  "language_info": {
   "codemirror_mode": {
    "name": "ipython",
    "version": 2
   },
   "file_extension": ".py",
   "mimetype": "text/x-python",
   "name": "python",
   "nbconvert_exporter": "python",
   "pygments_lexer": "ipython2",
   "version": "2.7.14"
  }
 },
 "nbformat": 4,
 "nbformat_minor": 2
}
