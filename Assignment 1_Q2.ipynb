{
 "cells": [
  {
   "cell_type": "markdown",
   "metadata": {},
   "source": [
    "# Question 2"
   ]
  },
  {
   "cell_type": "markdown",
   "metadata": {},
   "source": [
    "## part 1"
   ]
  },
  {
   "cell_type": "code",
   "execution_count": 811,
   "metadata": {
    "collapsed": true
   },
   "outputs": [],
   "source": [
    "import pandas as pd\n",
    "import numpy as np\n",
    "import matplotlib.pyplot as plt\n",
    "%matplotlib inline\n",
    "import warnings\n",
    "warnings.filterwarnings('ignore')"
   ]
  },
  {
   "cell_type": "code",
   "execution_count": 812,
   "metadata": {
    "collapsed": true
   },
   "outputs": [],
   "source": [
    "df = pd.read_csv('energydata_complete.csv')"
   ]
  },
  {
   "cell_type": "code",
   "execution_count": 813,
   "metadata": {
    "scrolled": true
   },
   "outputs": [
    {
     "data": {
      "text/html": [
       "<div>\n",
       "<style>\n",
       "    .dataframe thead tr:only-child th {\n",
       "        text-align: right;\n",
       "    }\n",
       "\n",
       "    .dataframe thead th {\n",
       "        text-align: left;\n",
       "    }\n",
       "\n",
       "    .dataframe tbody tr th {\n",
       "        vertical-align: top;\n",
       "    }\n",
       "</style>\n",
       "<table border=\"1\" class=\"dataframe\">\n",
       "  <thead>\n",
       "    <tr style=\"text-align: right;\">\n",
       "      <th></th>\n",
       "      <th>date</th>\n",
       "      <th>Appliances</th>\n",
       "      <th>lights</th>\n",
       "      <th>T1</th>\n",
       "      <th>RH_1</th>\n",
       "      <th>T2</th>\n",
       "      <th>RH_2</th>\n",
       "      <th>T3</th>\n",
       "      <th>RH_3</th>\n",
       "      <th>T4</th>\n",
       "      <th>...</th>\n",
       "      <th>RH_8</th>\n",
       "      <th>T9</th>\n",
       "      <th>RH_9</th>\n",
       "      <th>T_out</th>\n",
       "      <th>Press_mm_hg</th>\n",
       "      <th>RH_out</th>\n",
       "      <th>Windspeed</th>\n",
       "      <th>Visibility</th>\n",
       "      <th>Tdewpoint</th>\n",
       "      <th>Energy Consumption</th>\n",
       "    </tr>\n",
       "  </thead>\n",
       "  <tbody>\n",
       "    <tr>\n",
       "      <th>0</th>\n",
       "      <td>1/11/2016 17:00</td>\n",
       "      <td>60</td>\n",
       "      <td>30</td>\n",
       "      <td>19.89</td>\n",
       "      <td>47.596667</td>\n",
       "      <td>19.2</td>\n",
       "      <td>44.790000</td>\n",
       "      <td>19.79</td>\n",
       "      <td>44.730000</td>\n",
       "      <td>19.000000</td>\n",
       "      <td>...</td>\n",
       "      <td>48.900000</td>\n",
       "      <td>17.033333</td>\n",
       "      <td>45.53</td>\n",
       "      <td>6.60</td>\n",
       "      <td>733.5</td>\n",
       "      <td>92.0</td>\n",
       "      <td>7.000000</td>\n",
       "      <td>63.000000</td>\n",
       "      <td>5.3</td>\n",
       "      <td>13.275433</td>\n",
       "    </tr>\n",
       "    <tr>\n",
       "      <th>1</th>\n",
       "      <td>1/11/2016 17:10</td>\n",
       "      <td>60</td>\n",
       "      <td>30</td>\n",
       "      <td>19.89</td>\n",
       "      <td>46.693333</td>\n",
       "      <td>19.2</td>\n",
       "      <td>44.722500</td>\n",
       "      <td>19.79</td>\n",
       "      <td>44.790000</td>\n",
       "      <td>19.000000</td>\n",
       "      <td>...</td>\n",
       "      <td>48.863333</td>\n",
       "      <td>17.066667</td>\n",
       "      <td>45.56</td>\n",
       "      <td>6.48</td>\n",
       "      <td>733.6</td>\n",
       "      <td>92.0</td>\n",
       "      <td>6.666667</td>\n",
       "      <td>59.166667</td>\n",
       "      <td>5.2</td>\n",
       "      <td>18.606195</td>\n",
       "    </tr>\n",
       "    <tr>\n",
       "      <th>2</th>\n",
       "      <td>1/11/2016 17:20</td>\n",
       "      <td>50</td>\n",
       "      <td>30</td>\n",
       "      <td>19.89</td>\n",
       "      <td>46.300000</td>\n",
       "      <td>19.2</td>\n",
       "      <td>44.626667</td>\n",
       "      <td>19.79</td>\n",
       "      <td>44.933333</td>\n",
       "      <td>18.926667</td>\n",
       "      <td>...</td>\n",
       "      <td>48.730000</td>\n",
       "      <td>17.000000</td>\n",
       "      <td>45.50</td>\n",
       "      <td>6.37</td>\n",
       "      <td>733.7</td>\n",
       "      <td>92.0</td>\n",
       "      <td>6.333333</td>\n",
       "      <td>55.333333</td>\n",
       "      <td>5.1</td>\n",
       "      <td>28.642668</td>\n",
       "    </tr>\n",
       "    <tr>\n",
       "      <th>3</th>\n",
       "      <td>1/11/2016 17:30</td>\n",
       "      <td>50</td>\n",
       "      <td>40</td>\n",
       "      <td>19.89</td>\n",
       "      <td>46.066667</td>\n",
       "      <td>19.2</td>\n",
       "      <td>44.590000</td>\n",
       "      <td>19.79</td>\n",
       "      <td>45.000000</td>\n",
       "      <td>18.890000</td>\n",
       "      <td>...</td>\n",
       "      <td>48.590000</td>\n",
       "      <td>17.000000</td>\n",
       "      <td>45.40</td>\n",
       "      <td>6.25</td>\n",
       "      <td>733.8</td>\n",
       "      <td>92.0</td>\n",
       "      <td>6.000000</td>\n",
       "      <td>51.500000</td>\n",
       "      <td>5.0</td>\n",
       "      <td>45.410390</td>\n",
       "    </tr>\n",
       "    <tr>\n",
       "      <th>4</th>\n",
       "      <td>1/11/2016 17:40</td>\n",
       "      <td>60</td>\n",
       "      <td>40</td>\n",
       "      <td>19.89</td>\n",
       "      <td>46.333333</td>\n",
       "      <td>19.2</td>\n",
       "      <td>44.530000</td>\n",
       "      <td>19.79</td>\n",
       "      <td>45.000000</td>\n",
       "      <td>18.890000</td>\n",
       "      <td>...</td>\n",
       "      <td>48.590000</td>\n",
       "      <td>17.000000</td>\n",
       "      <td>45.40</td>\n",
       "      <td>6.13</td>\n",
       "      <td>733.9</td>\n",
       "      <td>92.0</td>\n",
       "      <td>5.666667</td>\n",
       "      <td>47.666667</td>\n",
       "      <td>4.9</td>\n",
       "      <td>10.084097</td>\n",
       "    </tr>\n",
       "  </tbody>\n",
       "</table>\n",
       "<p>5 rows × 28 columns</p>\n",
       "</div>"
      ],
      "text/plain": [
       "              date  Appliances  lights     T1       RH_1    T2       RH_2  \\\n",
       "0  1/11/2016 17:00          60      30  19.89  47.596667  19.2  44.790000   \n",
       "1  1/11/2016 17:10          60      30  19.89  46.693333  19.2  44.722500   \n",
       "2  1/11/2016 17:20          50      30  19.89  46.300000  19.2  44.626667   \n",
       "3  1/11/2016 17:30          50      40  19.89  46.066667  19.2  44.590000   \n",
       "4  1/11/2016 17:40          60      40  19.89  46.333333  19.2  44.530000   \n",
       "\n",
       "      T3       RH_3         T4         ...               RH_8         T9  \\\n",
       "0  19.79  44.730000  19.000000         ...          48.900000  17.033333   \n",
       "1  19.79  44.790000  19.000000         ...          48.863333  17.066667   \n",
       "2  19.79  44.933333  18.926667         ...          48.730000  17.000000   \n",
       "3  19.79  45.000000  18.890000         ...          48.590000  17.000000   \n",
       "4  19.79  45.000000  18.890000         ...          48.590000  17.000000   \n",
       "\n",
       "    RH_9  T_out  Press_mm_hg  RH_out  Windspeed  Visibility  Tdewpoint  \\\n",
       "0  45.53   6.60        733.5    92.0   7.000000   63.000000        5.3   \n",
       "1  45.56   6.48        733.6    92.0   6.666667   59.166667        5.2   \n",
       "2  45.50   6.37        733.7    92.0   6.333333   55.333333        5.1   \n",
       "3  45.40   6.25        733.8    92.0   6.000000   51.500000        5.0   \n",
       "4  45.40   6.13        733.9    92.0   5.666667   47.666667        4.9   \n",
       "\n",
       "   Energy Consumption  \n",
       "0           13.275433  \n",
       "1           18.606195  \n",
       "2           28.642668  \n",
       "3           45.410390  \n",
       "4           10.084097  \n",
       "\n",
       "[5 rows x 28 columns]"
      ]
     },
     "execution_count": 813,
     "metadata": {},
     "output_type": "execute_result"
    }
   ],
   "source": [
    "df.head()"
   ]
  },
  {
   "cell_type": "code",
   "execution_count": 814,
   "metadata": {},
   "outputs": [
    {
     "data": {
      "text/plain": [
       "<matplotlib.text.Text at 0x2948d71e470>"
      ]
     },
     "execution_count": 814,
     "metadata": {},
     "output_type": "execute_result"
    },
    {
     "data": {
      "image/png": "[encoded data removed]",
      "text/plain": [
       "<matplotlib.figure.Figure at 0x2948d7c5c18>"
      ]
     },
     "metadata": {},
     "output_type": "display_data"
    }
   ],
   "source": [
    "df = df.reset_index()\n",
    "fig, ax = plt.subplots()\n",
    "ax.plot(df['index'], df['Energy Consumption'], 'b-', label='Energy Consumption Plot')\n",
    "plt.xlabel('Period')\n",
    "plt.ylabel('Energy Consumption')\n",
    "plt.title('Energy Consumption for whole period')"
   ]
  },
  {
   "cell_type": "code",
   "execution_count": 815,
   "metadata": {
    "collapsed": true
   },
   "outputs": [],
   "source": [
    "df1 = df.iloc[42:1050,:]"
   ]
  },
  {
   "cell_type": "code",
   "execution_count": 816,
   "metadata": {},
   "outputs": [
    {
     "data": {
      "text/plain": [
       "<matplotlib.text.Text at 0x2948c501828>"
      ]
     },
     "execution_count": 816,
     "metadata": {},
     "output_type": "execute_result"
    },
    {
     "data": {
      "image/png": "[encoded data removed]",
      "text/plain": [
       "<matplotlib.figure.Figure at 0x2948d6b1518>"
      ]
     },
     "metadata": {},
     "output_type": "display_data"
    }
   ],
   "source": [
    "fig, ax = plt.subplots()\n",
    "ax.plot(df1['index'], df1['Energy Consumption'], 'b-', label='Energy Consumption Plot')\n",
    "plt.xlabel('Period')\n",
    "plt.ylabel('Energy Consumption')\n",
    "plt.title('Energy Consumption for first One complete week')"
   ]
  },
  {
   "cell_type": "markdown",
   "metadata": {},
   "source": [
    "## part 2"
   ]
  },
  {
   "cell_type": "code",
   "execution_count": 817,
   "metadata": {
    "collapsed": true
   },
   "outputs": [],
   "source": [
    "df['date1'] = df['date'].str.partition(' ')[0]\n",
    "df['time'] = df['date'].str.partition(' ')[2]\n",
    "df['hours'] = df['time'].str.partition(':')[0]\n",
    "df['mins'] = df['time'].str.partition(':')[2]\n",
    "df['timevar'] = df['date1'] + '/' + df['hours']"
   ]
  },
  {
   "cell_type": "code",
   "execution_count": 818,
   "metadata": {
    "collapsed": true
   },
   "outputs": [],
   "source": [
    "#df.head()"
   ]
  },
  {
   "cell_type": "code",
   "execution_count": 819,
   "metadata": {
    "collapsed": true
   },
   "outputs": [],
   "source": [
    "dfnew = df[['timevar', 'mins', 'Energy Consumption']]"
   ]
  },
  {
   "cell_type": "code",
   "execution_count": 820,
   "metadata": {},
   "outputs": [
    {
     "data": {
      "text/html": [
       "<div>\n",
       "<style>\n",
       "    .dataframe thead tr:only-child th {\n",
       "        text-align: right;\n",
       "    }\n",
       "\n",
       "    .dataframe thead th {\n",
       "        text-align: left;\n",
       "    }\n",
       "\n",
       "    .dataframe tbody tr th {\n",
       "        vertical-align: top;\n",
       "    }\n",
       "</style>\n",
       "<table border=\"1\" class=\"dataframe\">\n",
       "  <thead>\n",
       "    <tr style=\"text-align: right;\">\n",
       "      <th></th>\n",
       "      <th>timevar</th>\n",
       "      <th>mins</th>\n",
       "      <th>Energy Consumption</th>\n",
       "    </tr>\n",
       "  </thead>\n",
       "  <tbody>\n",
       "    <tr>\n",
       "      <th>0</th>\n",
       "      <td>1/11/2016/17</td>\n",
       "      <td>00</td>\n",
       "      <td>13.275433</td>\n",
       "    </tr>\n",
       "    <tr>\n",
       "      <th>1</th>\n",
       "      <td>1/11/2016/17</td>\n",
       "      <td>10</td>\n",
       "      <td>18.606195</td>\n",
       "    </tr>\n",
       "    <tr>\n",
       "      <th>2</th>\n",
       "      <td>1/11/2016/17</td>\n",
       "      <td>20</td>\n",
       "      <td>28.642668</td>\n",
       "    </tr>\n",
       "    <tr>\n",
       "      <th>3</th>\n",
       "      <td>1/11/2016/17</td>\n",
       "      <td>30</td>\n",
       "      <td>45.410390</td>\n",
       "    </tr>\n",
       "    <tr>\n",
       "      <th>4</th>\n",
       "      <td>1/11/2016/17</td>\n",
       "      <td>40</td>\n",
       "      <td>10.084097</td>\n",
       "    </tr>\n",
       "  </tbody>\n",
       "</table>\n",
       "</div>"
      ],
      "text/plain": [
       "        timevar mins  Energy Consumption\n",
       "0  1/11/2016/17   00           13.275433\n",
       "1  1/11/2016/17   10           18.606195\n",
       "2  1/11/2016/17   20           28.642668\n",
       "3  1/11/2016/17   30           45.410390\n",
       "4  1/11/2016/17   40           10.084097"
      ]
     },
     "execution_count": 820,
     "metadata": {},
     "output_type": "execute_result"
    }
   ],
   "source": [
    "dfnew.head()"
   ]
  },
  {
   "cell_type": "code",
   "execution_count": 821,
   "metadata": {
    "collapsed": true
   },
   "outputs": [],
   "source": [
    "dfnew = dfnew.set_index(['timevar', 'mins'])"
   ]
  },
  {
   "cell_type": "code",
   "execution_count": 822,
   "metadata": {
    "collapsed": true
   },
   "outputs": [],
   "source": [
    "#dfnew.head(10)"
   ]
  },
  {
   "cell_type": "code",
   "execution_count": 823,
   "metadata": {
    "collapsed": true
   },
   "outputs": [],
   "source": [
    "dfnew = dfnew.unstack()"
   ]
  },
  {
   "cell_type": "code",
   "execution_count": 824,
   "metadata": {},
   "outputs": [
    {
     "data": {
      "text/html": [
       "<div>\n",
       "<style>\n",
       "    .dataframe thead tr:only-child th {\n",
       "        text-align: right;\n",
       "    }\n",
       "\n",
       "    .dataframe thead th {\n",
       "        text-align: left;\n",
       "    }\n",
       "\n",
       "    .dataframe tbody tr th {\n",
       "        vertical-align: top;\n",
       "    }\n",
       "</style>\n",
       "<table border=\"1\" class=\"dataframe\">\n",
       "  <thead>\n",
       "    <tr>\n",
       "      <th></th>\n",
       "      <th colspan=\"6\" halign=\"left\">Energy Consumption</th>\n",
       "    </tr>\n",
       "    <tr>\n",
       "      <th>mins</th>\n",
       "      <th>00</th>\n",
       "      <th>10</th>\n",
       "      <th>20</th>\n",
       "      <th>30</th>\n",
       "      <th>40</th>\n",
       "      <th>50</th>\n",
       "    </tr>\n",
       "    <tr>\n",
       "      <th>timevar</th>\n",
       "      <th></th>\n",
       "      <th></th>\n",
       "      <th></th>\n",
       "      <th></th>\n",
       "      <th></th>\n",
       "      <th></th>\n",
       "    </tr>\n",
       "  </thead>\n",
       "  <tbody>\n",
       "    <tr>\n",
       "      <th>1/11/2016/17</th>\n",
       "      <td>13.275433</td>\n",
       "      <td>18.606195</td>\n",
       "      <td>28.642668</td>\n",
       "      <td>45.410390</td>\n",
       "      <td>10.084097</td>\n",
       "      <td>44.919484</td>\n",
       "    </tr>\n",
       "    <tr>\n",
       "      <th>1/11/2016/18</th>\n",
       "      <td>47.233763</td>\n",
       "      <td>33.039890</td>\n",
       "      <td>31.455702</td>\n",
       "      <td>3.089314</td>\n",
       "      <td>10.298729</td>\n",
       "      <td>8.827838</td>\n",
       "    </tr>\n",
       "    <tr>\n",
       "      <th>1/11/2016/19</th>\n",
       "      <td>34.351142</td>\n",
       "      <td>19.205186</td>\n",
       "      <td>38.492071</td>\n",
       "      <td>24.884962</td>\n",
       "      <td>35.880925</td>\n",
       "      <td>49.595305</td>\n",
       "    </tr>\n",
       "    <tr>\n",
       "      <th>1/11/2016/20</th>\n",
       "      <td>19.001759</td>\n",
       "      <td>38.872261</td>\n",
       "      <td>46.735262</td>\n",
       "      <td>10.607126</td>\n",
       "      <td>32.583688</td>\n",
       "      <td>6.277755</td>\n",
       "    </tr>\n",
       "    <tr>\n",
       "      <th>1/11/2016/21</th>\n",
       "      <td>13.361033</td>\n",
       "      <td>19.305705</td>\n",
       "      <td>0.669517</td>\n",
       "      <td>19.119398</td>\n",
       "      <td>43.484542</td>\n",
       "      <td>17.017450</td>\n",
       "    </tr>\n",
       "  </tbody>\n",
       "</table>\n",
       "</div>"
      ],
      "text/plain": [
       "             Energy Consumption                                              \\\n",
       "mins                         00         10         20         30         40   \n",
       "timevar                                                                       \n",
       "1/11/2016/17          13.275433  18.606195  28.642668  45.410390  10.084097   \n",
       "1/11/2016/18          47.233763  33.039890  31.455702   3.089314  10.298729   \n",
       "1/11/2016/19          34.351142  19.205186  38.492071  24.884962  35.880925   \n",
       "1/11/2016/20          19.001759  38.872261  46.735262  10.607126  32.583688   \n",
       "1/11/2016/21          13.361033  19.305705   0.669517  19.119398  43.484542   \n",
       "\n",
       "                         \n",
       "mins                 50  \n",
       "timevar                  \n",
       "1/11/2016/17  44.919484  \n",
       "1/11/2016/18   8.827838  \n",
       "1/11/2016/19  49.595305  \n",
       "1/11/2016/20   6.277755  \n",
       "1/11/2016/21  17.017450  "
      ]
     },
     "execution_count": 824,
     "metadata": {},
     "output_type": "execute_result"
    }
   ],
   "source": [
    "dfnew.head()"
   ]
  },
  {
   "cell_type": "code",
   "execution_count": 825,
   "metadata": {
    "collapsed": true
   },
   "outputs": [],
   "source": [
    "dfnew['hourly energy consumption'] = dfnew.sum(axis=1)"
   ]
  },
  {
   "cell_type": "code",
   "execution_count": 826,
   "metadata": {
    "collapsed": true
   },
   "outputs": [],
   "source": [
    "dfnew = dfnew.reset_index()"
   ]
  },
  {
   "cell_type": "code",
   "execution_count": 827,
   "metadata": {
    "collapsed": true
   },
   "outputs": [],
   "source": [
    "dfnew['date'] = dfnew['timevar'].str.rpartition('/')[0]"
   ]
  },
  {
   "cell_type": "code",
   "execution_count": 828,
   "metadata": {},
   "outputs": [
    {
     "data": {
      "text/html": [
       "<div>\n",
       "<style>\n",
       "    .dataframe thead tr:only-child th {\n",
       "        text-align: right;\n",
       "    }\n",
       "\n",
       "    .dataframe thead th {\n",
       "        text-align: left;\n",
       "    }\n",
       "\n",
       "    .dataframe tbody tr th {\n",
       "        vertical-align: top;\n",
       "    }\n",
       "</style>\n",
       "<table border=\"1\" class=\"dataframe\">\n",
       "  <thead>\n",
       "    <tr>\n",
       "      <th></th>\n",
       "      <th>timevar</th>\n",
       "      <th colspan=\"6\" halign=\"left\">Energy Consumption</th>\n",
       "      <th>hourly energy consumption</th>\n",
       "      <th>date</th>\n",
       "    </tr>\n",
       "    <tr>\n",
       "      <th>mins</th>\n",
       "      <th></th>\n",
       "      <th>00</th>\n",
       "      <th>10</th>\n",
       "      <th>20</th>\n",
       "      <th>30</th>\n",
       "      <th>40</th>\n",
       "      <th>50</th>\n",
       "      <th></th>\n",
       "      <th></th>\n",
       "    </tr>\n",
       "  </thead>\n",
       "  <tbody>\n",
       "    <tr>\n",
       "      <th>0</th>\n",
       "      <td>1/11/2016/17</td>\n",
       "      <td>13.275433</td>\n",
       "      <td>18.606195</td>\n",
       "      <td>28.642668</td>\n",
       "      <td>45.410390</td>\n",
       "      <td>10.084097</td>\n",
       "      <td>44.919484</td>\n",
       "      <td>160.938267</td>\n",
       "      <td>1/11/2016</td>\n",
       "    </tr>\n",
       "    <tr>\n",
       "      <th>1</th>\n",
       "      <td>1/11/2016/18</td>\n",
       "      <td>47.233763</td>\n",
       "      <td>33.039890</td>\n",
       "      <td>31.455702</td>\n",
       "      <td>3.089314</td>\n",
       "      <td>10.298729</td>\n",
       "      <td>8.827838</td>\n",
       "      <td>133.945235</td>\n",
       "      <td>1/11/2016</td>\n",
       "    </tr>\n",
       "    <tr>\n",
       "      <th>2</th>\n",
       "      <td>1/11/2016/19</td>\n",
       "      <td>34.351142</td>\n",
       "      <td>19.205186</td>\n",
       "      <td>38.492071</td>\n",
       "      <td>24.884962</td>\n",
       "      <td>35.880925</td>\n",
       "      <td>49.595305</td>\n",
       "      <td>202.409591</td>\n",
       "      <td>1/11/2016</td>\n",
       "    </tr>\n",
       "    <tr>\n",
       "      <th>3</th>\n",
       "      <td>1/11/2016/20</td>\n",
       "      <td>19.001759</td>\n",
       "      <td>38.872261</td>\n",
       "      <td>46.735262</td>\n",
       "      <td>10.607126</td>\n",
       "      <td>32.583688</td>\n",
       "      <td>6.277755</td>\n",
       "      <td>154.077851</td>\n",
       "      <td>1/11/2016</td>\n",
       "    </tr>\n",
       "    <tr>\n",
       "      <th>4</th>\n",
       "      <td>1/11/2016/21</td>\n",
       "      <td>13.361033</td>\n",
       "      <td>19.305705</td>\n",
       "      <td>0.669517</td>\n",
       "      <td>19.119398</td>\n",
       "      <td>43.484542</td>\n",
       "      <td>17.017450</td>\n",
       "      <td>112.957645</td>\n",
       "      <td>1/11/2016</td>\n",
       "    </tr>\n",
       "  </tbody>\n",
       "</table>\n",
       "</div>"
      ],
      "text/plain": [
       "           timevar Energy Consumption                                   \\\n",
       "mins                               00         10         20         30   \n",
       "0     1/11/2016/17          13.275433  18.606195  28.642668  45.410390   \n",
       "1     1/11/2016/18          47.233763  33.039890  31.455702   3.089314   \n",
       "2     1/11/2016/19          34.351142  19.205186  38.492071  24.884962   \n",
       "3     1/11/2016/20          19.001759  38.872261  46.735262  10.607126   \n",
       "4     1/11/2016/21          13.361033  19.305705   0.669517  19.119398   \n",
       "\n",
       "                           hourly energy consumption       date  \n",
       "mins         40         50                                       \n",
       "0     10.084097  44.919484                160.938267  1/11/2016  \n",
       "1     10.298729   8.827838                133.945235  1/11/2016  \n",
       "2     35.880925  49.595305                202.409591  1/11/2016  \n",
       "3     32.583688   6.277755                154.077851  1/11/2016  \n",
       "4     43.484542  17.017450                112.957645  1/11/2016  "
      ]
     },
     "execution_count": 828,
     "metadata": {},
     "output_type": "execute_result"
    }
   ],
   "source": [
    "dfnew.head()"
   ]
  },
  {
   "cell_type": "code",
   "execution_count": 829,
   "metadata": {
    "collapsed": true
   },
   "outputs": [],
   "source": [
    "dfnew['m'] = (dfnew['date'].str.partition('/')[0]).astype(int)\n",
    "dfnew['d'] = ((dfnew['date'].str.partition('/')[2]).str.partition('/')[0]).astype(int)\n",
    "dfnew['y'] = (dfnew['date'].str.rpartition('/')[2]).astype(int)\n",
    "dfnew['Hours'] = (dfnew['timevar'].str.rpartition('/')[2]).astype(int)"
   ]
  },
  {
   "cell_type": "code",
   "execution_count": 830,
   "metadata": {},
   "outputs": [
    {
     "data": {
      "text/html": [
       "<div>\n",
       "<style>\n",
       "    .dataframe thead tr:only-child th {\n",
       "        text-align: right;\n",
       "    }\n",
       "\n",
       "    .dataframe thead th {\n",
       "        text-align: left;\n",
       "    }\n",
       "\n",
       "    .dataframe tbody tr th {\n",
       "        vertical-align: top;\n",
       "    }\n",
       "</style>\n",
       "<table border=\"1\" class=\"dataframe\">\n",
       "  <thead>\n",
       "    <tr>\n",
       "      <th></th>\n",
       "      <th>timevar</th>\n",
       "      <th colspan=\"6\" halign=\"left\">Energy Consumption</th>\n",
       "      <th>hourly energy consumption</th>\n",
       "      <th>date</th>\n",
       "      <th>m</th>\n",
       "      <th>d</th>\n",
       "      <th>y</th>\n",
       "      <th>Hours</th>\n",
       "    </tr>\n",
       "    <tr>\n",
       "      <th>mins</th>\n",
       "      <th></th>\n",
       "      <th>00</th>\n",
       "      <th>10</th>\n",
       "      <th>20</th>\n",
       "      <th>30</th>\n",
       "      <th>40</th>\n",
       "      <th>50</th>\n",
       "      <th></th>\n",
       "      <th></th>\n",
       "      <th></th>\n",
       "      <th></th>\n",
       "      <th></th>\n",
       "      <th></th>\n",
       "    </tr>\n",
       "  </thead>\n",
       "  <tbody>\n",
       "    <tr>\n",
       "      <th>0</th>\n",
       "      <td>1/11/2016/17</td>\n",
       "      <td>13.275433</td>\n",
       "      <td>18.606195</td>\n",
       "      <td>28.642668</td>\n",
       "      <td>45.410390</td>\n",
       "      <td>10.084097</td>\n",
       "      <td>44.919484</td>\n",
       "      <td>160.938267</td>\n",
       "      <td>1/11/2016</td>\n",
       "      <td>1</td>\n",
       "      <td>11</td>\n",
       "      <td>2016</td>\n",
       "      <td>17</td>\n",
       "    </tr>\n",
       "    <tr>\n",
       "      <th>1</th>\n",
       "      <td>1/11/2016/18</td>\n",
       "      <td>47.233763</td>\n",
       "      <td>33.039890</td>\n",
       "      <td>31.455702</td>\n",
       "      <td>3.089314</td>\n",
       "      <td>10.298729</td>\n",
       "      <td>8.827838</td>\n",
       "      <td>133.945235</td>\n",
       "      <td>1/11/2016</td>\n",
       "      <td>1</td>\n",
       "      <td>11</td>\n",
       "      <td>2016</td>\n",
       "      <td>18</td>\n",
       "    </tr>\n",
       "    <tr>\n",
       "      <th>2</th>\n",
       "      <td>1/11/2016/19</td>\n",
       "      <td>34.351142</td>\n",
       "      <td>19.205186</td>\n",
       "      <td>38.492071</td>\n",
       "      <td>24.884962</td>\n",
       "      <td>35.880925</td>\n",
       "      <td>49.595305</td>\n",
       "      <td>202.409591</td>\n",
       "      <td>1/11/2016</td>\n",
       "      <td>1</td>\n",
       "      <td>11</td>\n",
       "      <td>2016</td>\n",
       "      <td>19</td>\n",
       "    </tr>\n",
       "    <tr>\n",
       "      <th>3</th>\n",
       "      <td>1/11/2016/20</td>\n",
       "      <td>19.001759</td>\n",
       "      <td>38.872261</td>\n",
       "      <td>46.735262</td>\n",
       "      <td>10.607126</td>\n",
       "      <td>32.583688</td>\n",
       "      <td>6.277755</td>\n",
       "      <td>154.077851</td>\n",
       "      <td>1/11/2016</td>\n",
       "      <td>1</td>\n",
       "      <td>11</td>\n",
       "      <td>2016</td>\n",
       "      <td>20</td>\n",
       "    </tr>\n",
       "    <tr>\n",
       "      <th>4</th>\n",
       "      <td>1/11/2016/21</td>\n",
       "      <td>13.361033</td>\n",
       "      <td>19.305705</td>\n",
       "      <td>0.669517</td>\n",
       "      <td>19.119398</td>\n",
       "      <td>43.484542</td>\n",
       "      <td>17.017450</td>\n",
       "      <td>112.957645</td>\n",
       "      <td>1/11/2016</td>\n",
       "      <td>1</td>\n",
       "      <td>11</td>\n",
       "      <td>2016</td>\n",
       "      <td>21</td>\n",
       "    </tr>\n",
       "  </tbody>\n",
       "</table>\n",
       "</div>"
      ],
      "text/plain": [
       "           timevar Energy Consumption                                   \\\n",
       "mins                               00         10         20         30   \n",
       "0     1/11/2016/17          13.275433  18.606195  28.642668  45.410390   \n",
       "1     1/11/2016/18          47.233763  33.039890  31.455702   3.089314   \n",
       "2     1/11/2016/19          34.351142  19.205186  38.492071  24.884962   \n",
       "3     1/11/2016/20          19.001759  38.872261  46.735262  10.607126   \n",
       "4     1/11/2016/21          13.361033  19.305705   0.669517  19.119398   \n",
       "\n",
       "                           hourly energy consumption       date  m   d     y  \\\n",
       "mins         40         50                                                     \n",
       "0     10.084097  44.919484                160.938267  1/11/2016  1  11  2016   \n",
       "1     10.298729   8.827838                133.945235  1/11/2016  1  11  2016   \n",
       "2     35.880925  49.595305                202.409591  1/11/2016  1  11  2016   \n",
       "3     32.583688   6.277755                154.077851  1/11/2016  1  11  2016   \n",
       "4     43.484542  17.017450                112.957645  1/11/2016  1  11  2016   \n",
       "\n",
       "     Hours  \n",
       "mins        \n",
       "0       17  \n",
       "1       18  \n",
       "2       19  \n",
       "3       20  \n",
       "4       21  "
      ]
     },
     "execution_count": 830,
     "metadata": {},
     "output_type": "execute_result"
    }
   ],
   "source": [
    "dfnew.head()"
   ]
  },
  {
   "cell_type": "code",
   "execution_count": 831,
   "metadata": {
    "collapsed": true
   },
   "outputs": [],
   "source": [
    "dfnew['y1'] = np.where(dfnew['m'] < 3, dfnew['y'] - 1, dfnew['y'])\n",
    "dfnew['a'] = ( 23*dfnew['m']//9 + dfnew['d'] + 4 + dfnew['y'] + dfnew['y1']//4 - dfnew['y1']//100 + dfnew['y1']//400 )\n",
    "dfnew['b'] = np.where(dfnew['m'] >= 3, dfnew['a'] - 2, dfnew['a'])\n",
    "dfnew['Weekday'] = dfnew['b'] % 7"
   ]
  },
  {
   "cell_type": "code",
   "execution_count": 832,
   "metadata": {
    "collapsed": true
   },
   "outputs": [],
   "source": [
    "dict_day = {0 : 'Sunday', 1 : 'Monday', 2 : 'Tuesday', 3 : 'Wednesday', 4 : 'Thursday', 5 : 'Friday', 6 : 'Saturday'}"
   ]
  },
  {
   "cell_type": "code",
   "execution_count": 833,
   "metadata": {
    "collapsed": true
   },
   "outputs": [],
   "source": [
    "dfnew['Day']=dfnew['Weekday'].apply(lambda x: dict_day[x])"
   ]
  },
  {
   "cell_type": "code",
   "execution_count": 834,
   "metadata": {
    "collapsed": true
   },
   "outputs": [],
   "source": [
    "dfa = dfnew[['date', 'Weekday', 'Hours', 'Day', 'hourly energy consumption']]"
   ]
  },
  {
   "cell_type": "code",
   "execution_count": 835,
   "metadata": {},
   "outputs": [
    {
     "data": {
      "text/html": [
       "<div>\n",
       "<style>\n",
       "    .dataframe thead tr:only-child th {\n",
       "        text-align: right;\n",
       "    }\n",
       "\n",
       "    .dataframe thead th {\n",
       "        text-align: left;\n",
       "    }\n",
       "\n",
       "    .dataframe tbody tr th {\n",
       "        vertical-align: top;\n",
       "    }\n",
       "</style>\n",
       "<table border=\"1\" class=\"dataframe\">\n",
       "  <thead>\n",
       "    <tr>\n",
       "      <th></th>\n",
       "      <th>date</th>\n",
       "      <th>Weekday</th>\n",
       "      <th>Hours</th>\n",
       "      <th>Day</th>\n",
       "      <th>hourly energy consumption</th>\n",
       "    </tr>\n",
       "    <tr>\n",
       "      <th>mins</th>\n",
       "      <th></th>\n",
       "      <th></th>\n",
       "      <th></th>\n",
       "      <th></th>\n",
       "      <th></th>\n",
       "    </tr>\n",
       "  </thead>\n",
       "  <tbody>\n",
       "    <tr>\n",
       "      <th>0</th>\n",
       "      <td>1/11/2016</td>\n",
       "      <td>1</td>\n",
       "      <td>17</td>\n",
       "      <td>Monday</td>\n",
       "      <td>160.938267</td>\n",
       "    </tr>\n",
       "    <tr>\n",
       "      <th>1</th>\n",
       "      <td>1/11/2016</td>\n",
       "      <td>1</td>\n",
       "      <td>18</td>\n",
       "      <td>Monday</td>\n",
       "      <td>133.945235</td>\n",
       "    </tr>\n",
       "    <tr>\n",
       "      <th>2</th>\n",
       "      <td>1/11/2016</td>\n",
       "      <td>1</td>\n",
       "      <td>19</td>\n",
       "      <td>Monday</td>\n",
       "      <td>202.409591</td>\n",
       "    </tr>\n",
       "    <tr>\n",
       "      <th>3</th>\n",
       "      <td>1/11/2016</td>\n",
       "      <td>1</td>\n",
       "      <td>20</td>\n",
       "      <td>Monday</td>\n",
       "      <td>154.077851</td>\n",
       "    </tr>\n",
       "    <tr>\n",
       "      <th>4</th>\n",
       "      <td>1/11/2016</td>\n",
       "      <td>1</td>\n",
       "      <td>21</td>\n",
       "      <td>Monday</td>\n",
       "      <td>112.957645</td>\n",
       "    </tr>\n",
       "    <tr>\n",
       "      <th>5</th>\n",
       "      <td>1/11/2016</td>\n",
       "      <td>1</td>\n",
       "      <td>22</td>\n",
       "      <td>Monday</td>\n",
       "      <td>162.862245</td>\n",
       "    </tr>\n",
       "    <tr>\n",
       "      <th>6</th>\n",
       "      <td>1/11/2016</td>\n",
       "      <td>1</td>\n",
       "      <td>23</td>\n",
       "      <td>Monday</td>\n",
       "      <td>175.258768</td>\n",
       "    </tr>\n",
       "    <tr>\n",
       "      <th>7</th>\n",
       "      <td>1/12/2016</td>\n",
       "      <td>2</td>\n",
       "      <td>0</td>\n",
       "      <td>Tuesday</td>\n",
       "      <td>157.780308</td>\n",
       "    </tr>\n",
       "    <tr>\n",
       "      <th>8</th>\n",
       "      <td>1/12/2016</td>\n",
       "      <td>2</td>\n",
       "      <td>1</td>\n",
       "      <td>Tuesday</td>\n",
       "      <td>172.338439</td>\n",
       "    </tr>\n",
       "    <tr>\n",
       "      <th>9</th>\n",
       "      <td>1/12/2016</td>\n",
       "      <td>2</td>\n",
       "      <td>10</td>\n",
       "      <td>Tuesday</td>\n",
       "      <td>135.856799</td>\n",
       "    </tr>\n",
       "  </tbody>\n",
       "</table>\n",
       "</div>"
      ],
      "text/plain": [
       "           date Weekday Hours      Day hourly energy consumption\n",
       "mins                                                            \n",
       "0     1/11/2016       1    17   Monday                160.938267\n",
       "1     1/11/2016       1    18   Monday                133.945235\n",
       "2     1/11/2016       1    19   Monday                202.409591\n",
       "3     1/11/2016       1    20   Monday                154.077851\n",
       "4     1/11/2016       1    21   Monday                112.957645\n",
       "5     1/11/2016       1    22   Monday                162.862245\n",
       "6     1/11/2016       1    23   Monday                175.258768\n",
       "7     1/12/2016       2     0  Tuesday                157.780308\n",
       "8     1/12/2016       2     1  Tuesday                172.338439\n",
       "9     1/12/2016       2    10  Tuesday                135.856799"
      ]
     },
     "execution_count": 835,
     "metadata": {},
     "output_type": "execute_result"
    }
   ],
   "source": [
    "dfa.head(10)"
   ]
  },
  {
   "cell_type": "code",
   "execution_count": 836,
   "metadata": {
    "collapsed": true
   },
   "outputs": [],
   "source": [
    "df2 = dfa.iloc[7:175,:]"
   ]
  },
  {
   "cell_type": "code",
   "execution_count": 837,
   "metadata": {
    "collapsed": true
   },
   "outputs": [],
   "source": [
    "#df2.head(40)"
   ]
  },
  {
   "cell_type": "code",
   "execution_count": 838,
   "metadata": {
    "collapsed": true
   },
   "outputs": [],
   "source": [
    "df2 = df2.sort_values(by = ['Hours', 'Weekday'], ascending = [True, True])"
   ]
  },
  {
   "cell_type": "code",
   "execution_count": 839,
   "metadata": {
    "collapsed": true
   },
   "outputs": [],
   "source": [
    "#df2"
   ]
  },
  {
   "cell_type": "code",
   "execution_count": 840,
   "metadata": {
    "collapsed": true
   },
   "outputs": [],
   "source": [
    "df3 = df2[['Hours', 'Weekday', 'hourly energy consumption']]"
   ]
  },
  {
   "cell_type": "code",
   "execution_count": 841,
   "metadata": {
    "collapsed": true
   },
   "outputs": [],
   "source": [
    "#df3"
   ]
  },
  {
   "cell_type": "code",
   "execution_count": 842,
   "metadata": {
    "collapsed": true
   },
   "outputs": [],
   "source": [
    "df3 = df3.pivot('Hours', 'Weekday', 'hourly energy consumption')"
   ]
  },
  {
   "cell_type": "code",
   "execution_count": 843,
   "metadata": {},
   "outputs": [
    {
     "data": {
      "text/html": [
       "<div>\n",
       "<style>\n",
       "    .dataframe thead tr:only-child th {\n",
       "        text-align: right;\n",
       "    }\n",
       "\n",
       "    .dataframe thead th {\n",
       "        text-align: left;\n",
       "    }\n",
       "\n",
       "    .dataframe tbody tr th {\n",
       "        vertical-align: top;\n",
       "    }\n",
       "</style>\n",
       "<table border=\"1\" class=\"dataframe\">\n",
       "  <thead>\n",
       "    <tr style=\"text-align: right;\">\n",
       "      <th>Weekday</th>\n",
       "      <th>0</th>\n",
       "      <th>1</th>\n",
       "      <th>2</th>\n",
       "      <th>3</th>\n",
       "      <th>4</th>\n",
       "      <th>5</th>\n",
       "      <th>6</th>\n",
       "    </tr>\n",
       "    <tr>\n",
       "      <th>Hours</th>\n",
       "      <th></th>\n",
       "      <th></th>\n",
       "      <th></th>\n",
       "      <th></th>\n",
       "      <th></th>\n",
       "      <th></th>\n",
       "      <th></th>\n",
       "    </tr>\n",
       "  </thead>\n",
       "  <tbody>\n",
       "    <tr>\n",
       "      <th>0</th>\n",
       "      <td>135.412251</td>\n",
       "      <td>81.781133</td>\n",
       "      <td>157.780308</td>\n",
       "      <td>203.731116</td>\n",
       "      <td>146.612412</td>\n",
       "      <td>142.361979</td>\n",
       "      <td>121.214506</td>\n",
       "    </tr>\n",
       "    <tr>\n",
       "      <th>1</th>\n",
       "      <td>194.740494</td>\n",
       "      <td>104.895388</td>\n",
       "      <td>172.338439</td>\n",
       "      <td>142.642426</td>\n",
       "      <td>165.881296</td>\n",
       "      <td>190.132971</td>\n",
       "      <td>163.032425</td>\n",
       "    </tr>\n",
       "    <tr>\n",
       "      <th>2</th>\n",
       "      <td>152.659262</td>\n",
       "      <td>195.465785</td>\n",
       "      <td>103.694322</td>\n",
       "      <td>118.635797</td>\n",
       "      <td>125.647159</td>\n",
       "      <td>108.259205</td>\n",
       "      <td>156.942059</td>\n",
       "    </tr>\n",
       "    <tr>\n",
       "      <th>3</th>\n",
       "      <td>192.553042</td>\n",
       "      <td>182.971544</td>\n",
       "      <td>145.341347</td>\n",
       "      <td>118.299357</td>\n",
       "      <td>142.370709</td>\n",
       "      <td>113.349697</td>\n",
       "      <td>136.322848</td>\n",
       "    </tr>\n",
       "    <tr>\n",
       "      <th>4</th>\n",
       "      <td>82.506704</td>\n",
       "      <td>176.734190</td>\n",
       "      <td>169.146873</td>\n",
       "      <td>194.983342</td>\n",
       "      <td>177.620645</td>\n",
       "      <td>173.263131</td>\n",
       "      <td>152.229580</td>\n",
       "    </tr>\n",
       "    <tr>\n",
       "      <th>5</th>\n",
       "      <td>159.186919</td>\n",
       "      <td>184.745814</td>\n",
       "      <td>165.166851</td>\n",
       "      <td>166.228740</td>\n",
       "      <td>149.020639</td>\n",
       "      <td>199.137883</td>\n",
       "      <td>195.020820</td>\n",
       "    </tr>\n",
       "    <tr>\n",
       "      <th>6</th>\n",
       "      <td>188.202003</td>\n",
       "      <td>138.167565</td>\n",
       "      <td>180.522969</td>\n",
       "      <td>128.565179</td>\n",
       "      <td>146.791379</td>\n",
       "      <td>149.058804</td>\n",
       "      <td>153.171648</td>\n",
       "    </tr>\n",
       "    <tr>\n",
       "      <th>7</th>\n",
       "      <td>130.783316</td>\n",
       "      <td>175.982845</td>\n",
       "      <td>109.069272</td>\n",
       "      <td>137.821893</td>\n",
       "      <td>149.965382</td>\n",
       "      <td>184.972615</td>\n",
       "      <td>139.846486</td>\n",
       "    </tr>\n",
       "    <tr>\n",
       "      <th>8</th>\n",
       "      <td>149.385049</td>\n",
       "      <td>121.243731</td>\n",
       "      <td>169.667238</td>\n",
       "      <td>160.318264</td>\n",
       "      <td>164.960343</td>\n",
       "      <td>167.811092</td>\n",
       "      <td>172.205580</td>\n",
       "    </tr>\n",
       "    <tr>\n",
       "      <th>9</th>\n",
       "      <td>185.261811</td>\n",
       "      <td>104.737903</td>\n",
       "      <td>164.454163</td>\n",
       "      <td>128.187248</td>\n",
       "      <td>158.915013</td>\n",
       "      <td>160.054269</td>\n",
       "      <td>138.131328</td>\n",
       "    </tr>\n",
       "    <tr>\n",
       "      <th>10</th>\n",
       "      <td>152.759537</td>\n",
       "      <td>225.358304</td>\n",
       "      <td>135.856799</td>\n",
       "      <td>182.968877</td>\n",
       "      <td>111.318422</td>\n",
       "      <td>83.151487</td>\n",
       "      <td>139.127905</td>\n",
       "    </tr>\n",
       "    <tr>\n",
       "      <th>11</th>\n",
       "      <td>213.373192</td>\n",
       "      <td>112.498143</td>\n",
       "      <td>200.949962</td>\n",
       "      <td>120.715196</td>\n",
       "      <td>115.748004</td>\n",
       "      <td>132.405080</td>\n",
       "      <td>142.318637</td>\n",
       "    </tr>\n",
       "    <tr>\n",
       "      <th>12</th>\n",
       "      <td>169.439960</td>\n",
       "      <td>159.137252</td>\n",
       "      <td>103.321242</td>\n",
       "      <td>160.709768</td>\n",
       "      <td>233.549452</td>\n",
       "      <td>205.646206</td>\n",
       "      <td>149.442239</td>\n",
       "    </tr>\n",
       "    <tr>\n",
       "      <th>13</th>\n",
       "      <td>134.831689</td>\n",
       "      <td>153.287225</td>\n",
       "      <td>167.697025</td>\n",
       "      <td>123.832006</td>\n",
       "      <td>192.157864</td>\n",
       "      <td>110.710453</td>\n",
       "      <td>211.572352</td>\n",
       "    </tr>\n",
       "    <tr>\n",
       "      <th>14</th>\n",
       "      <td>172.023858</td>\n",
       "      <td>115.349235</td>\n",
       "      <td>109.751081</td>\n",
       "      <td>60.656633</td>\n",
       "      <td>175.109829</td>\n",
       "      <td>175.561440</td>\n",
       "      <td>155.154703</td>\n",
       "    </tr>\n",
       "    <tr>\n",
       "      <th>15</th>\n",
       "      <td>113.314440</td>\n",
       "      <td>129.527601</td>\n",
       "      <td>164.598608</td>\n",
       "      <td>112.077525</td>\n",
       "      <td>125.293941</td>\n",
       "      <td>186.378080</td>\n",
       "      <td>187.646422</td>\n",
       "    </tr>\n",
       "    <tr>\n",
       "      <th>16</th>\n",
       "      <td>74.745673</td>\n",
       "      <td>128.935781</td>\n",
       "      <td>163.705047</td>\n",
       "      <td>95.814678</td>\n",
       "      <td>187.193670</td>\n",
       "      <td>113.807914</td>\n",
       "      <td>111.670272</td>\n",
       "    </tr>\n",
       "    <tr>\n",
       "      <th>17</th>\n",
       "      <td>119.086975</td>\n",
       "      <td>201.481321</td>\n",
       "      <td>153.661904</td>\n",
       "      <td>100.995431</td>\n",
       "      <td>130.757648</td>\n",
       "      <td>197.654167</td>\n",
       "      <td>166.710715</td>\n",
       "    </tr>\n",
       "    <tr>\n",
       "      <th>18</th>\n",
       "      <td>146.691439</td>\n",
       "      <td>143.446822</td>\n",
       "      <td>131.751030</td>\n",
       "      <td>119.307363</td>\n",
       "      <td>142.440353</td>\n",
       "      <td>114.933467</td>\n",
       "      <td>133.711597</td>\n",
       "    </tr>\n",
       "    <tr>\n",
       "      <th>19</th>\n",
       "      <td>186.091706</td>\n",
       "      <td>138.690160</td>\n",
       "      <td>113.762319</td>\n",
       "      <td>154.451690</td>\n",
       "      <td>109.508642</td>\n",
       "      <td>194.874457</td>\n",
       "      <td>146.400408</td>\n",
       "    </tr>\n",
       "    <tr>\n",
       "      <th>20</th>\n",
       "      <td>230.983445</td>\n",
       "      <td>145.040810</td>\n",
       "      <td>145.962971</td>\n",
       "      <td>89.656825</td>\n",
       "      <td>132.968080</td>\n",
       "      <td>164.202729</td>\n",
       "      <td>95.048114</td>\n",
       "    </tr>\n",
       "    <tr>\n",
       "      <th>21</th>\n",
       "      <td>53.906196</td>\n",
       "      <td>150.827778</td>\n",
       "      <td>188.993045</td>\n",
       "      <td>138.023879</td>\n",
       "      <td>143.575650</td>\n",
       "      <td>229.539075</td>\n",
       "      <td>134.610938</td>\n",
       "    </tr>\n",
       "    <tr>\n",
       "      <th>22</th>\n",
       "      <td>62.854299</td>\n",
       "      <td>127.254889</td>\n",
       "      <td>208.485939</td>\n",
       "      <td>198.639894</td>\n",
       "      <td>126.082711</td>\n",
       "      <td>154.154809</td>\n",
       "      <td>135.652955</td>\n",
       "    </tr>\n",
       "    <tr>\n",
       "      <th>23</th>\n",
       "      <td>117.370878</td>\n",
       "      <td>145.375564</td>\n",
       "      <td>147.051593</td>\n",
       "      <td>221.657381</td>\n",
       "      <td>184.608736</td>\n",
       "      <td>134.269213</td>\n",
       "      <td>150.246127</td>\n",
       "    </tr>\n",
       "  </tbody>\n",
       "</table>\n",
       "</div>"
      ],
      "text/plain": [
       "Weekday           0           1           2           3           4  \\\n",
       "Hours                                                                 \n",
       "0        135.412251   81.781133  157.780308  203.731116  146.612412   \n",
       "1        194.740494  104.895388  172.338439  142.642426  165.881296   \n",
       "2        152.659262  195.465785  103.694322  118.635797  125.647159   \n",
       "3        192.553042  182.971544  145.341347  118.299357  142.370709   \n",
       "4         82.506704  176.734190  169.146873  194.983342  177.620645   \n",
       "5        159.186919  184.745814  165.166851  166.228740  149.020639   \n",
       "6        188.202003  138.167565  180.522969  128.565179  146.791379   \n",
       "7        130.783316  175.982845  109.069272  137.821893  149.965382   \n",
       "8        149.385049  121.243731  169.667238  160.318264  164.960343   \n",
       "9        185.261811  104.737903  164.454163  128.187248  158.915013   \n",
       "10       152.759537  225.358304  135.856799  182.968877  111.318422   \n",
       "11       213.373192  112.498143  200.949962  120.715196  115.748004   \n",
       "12       169.439960  159.137252  103.321242  160.709768  233.549452   \n",
       "13       134.831689  153.287225  167.697025  123.832006  192.157864   \n",
       "14       172.023858  115.349235  109.751081   60.656633  175.109829   \n",
       "15       113.314440  129.527601  164.598608  112.077525  125.293941   \n",
       "16        74.745673  128.935781  163.705047   95.814678  187.193670   \n",
       "17       119.086975  201.481321  153.661904  100.995431  130.757648   \n",
       "18       146.691439  143.446822  131.751030  119.307363  142.440353   \n",
       "19       186.091706  138.690160  113.762319  154.451690  109.508642   \n",
       "20       230.983445  145.040810  145.962971   89.656825  132.968080   \n",
       "21        53.906196  150.827778  188.993045  138.023879  143.575650   \n",
       "22        62.854299  127.254889  208.485939  198.639894  126.082711   \n",
       "23       117.370878  145.375564  147.051593  221.657381  184.608736   \n",
       "\n",
       "Weekday           5           6  \n",
       "Hours                            \n",
       "0        142.361979  121.214506  \n",
       "1        190.132971  163.032425  \n",
       "2        108.259205  156.942059  \n",
       "3        113.349697  136.322848  \n",
       "4        173.263131  152.229580  \n",
       "5        199.137883  195.020820  \n",
       "6        149.058804  153.171648  \n",
       "7        184.972615  139.846486  \n",
       "8        167.811092  172.205580  \n",
       "9        160.054269  138.131328  \n",
       "10        83.151487  139.127905  \n",
       "11       132.405080  142.318637  \n",
       "12       205.646206  149.442239  \n",
       "13       110.710453  211.572352  \n",
       "14       175.561440  155.154703  \n",
       "15       186.378080  187.646422  \n",
       "16       113.807914  111.670272  \n",
       "17       197.654167  166.710715  \n",
       "18       114.933467  133.711597  \n",
       "19       194.874457  146.400408  \n",
       "20       164.202729   95.048114  \n",
       "21       229.539075  134.610938  \n",
       "22       154.154809  135.652955  \n",
       "23       134.269213  150.246127  "
      ]
     },
     "execution_count": 843,
     "metadata": {},
     "output_type": "execute_result"
    }
   ],
   "source": [
    "df3"
   ]
  },
  {
   "cell_type": "code",
   "execution_count": 844,
   "metadata": {
    "collapsed": true
   },
   "outputs": [],
   "source": [
    "df3 = df3.rename(index = str, columns = {0 : 'Sunday', 1 : 'Monday', 2 : 'Tuesday', 3 : 'Wednesday', 4 : 'Thursday', 5 : 'Friday', 6 : 'Saturday'})"
   ]
  },
  {
   "cell_type": "code",
   "execution_count": 845,
   "metadata": {},
   "outputs": [
    {
     "data": {
      "text/plain": [
       "<matplotlib.text.Text at 0x2948dab9da0>"
      ]
     },
     "execution_count": 845,
     "metadata": {},
     "output_type": "execute_result"
    },
    {
     "data": {
      "image/png": "[encoded data removed]",
      "text/plain": [
       "<matplotlib.figure.Figure at 0x294846dd550>"
      ]
     },
     "metadata": {},
     "output_type": "display_data"
    }
   ],
   "source": [
    "import seaborn as sns\n",
    "sns.heatmap(df3)\n",
    "plt.xlabel('Day of Week')\n",
    "plt.ylabel('Hour of Day')\n",
    "plt.title('Houly Energy Consumption of Appliances for a Week')"
   ]
  },
  {
   "cell_type": "markdown",
   "metadata": {},
   "source": [
    "## part 3"
   ]
  },
  {
   "cell_type": "code",
   "execution_count": 846,
   "metadata": {},
   "outputs": [
    {
     "data": {
      "text/plain": [
       "<matplotlib.text.Text at 0x294847ed9e8>"
      ]
     },
     "execution_count": 846,
     "metadata": {},
     "output_type": "execute_result"
    },
    {
     "data": {
      "image/png": "[encoded data removed]",
      "text/plain": [
       "<matplotlib.figure.Figure at 0x29484727630>"
      ]
     },
     "metadata": {},
     "output_type": "display_data"
    }
   ],
   "source": [
    "plt.hist(df['Energy Consumption'])\n",
    "plt.xlabel('Energy Consumption')\n",
    "plt.ylabel('Frequency')\n",
    "plt.title('Histogram of Energy Consumption of Appliances')"
   ]
  },
  {
   "cell_type": "markdown",
   "metadata": {},
   "source": [
    "## part 4"
   ]
  },
  {
   "cell_type": "code",
   "execution_count": 847,
   "metadata": {
    "collapsed": true
   },
   "outputs": [],
   "source": [
    "#df.head()"
   ]
  },
  {
   "cell_type": "code",
   "execution_count": 848,
   "metadata": {
    "collapsed": true
   },
   "outputs": [],
   "source": [
    "df['hours'] = df['hours'].astype(int)\n",
    "df['mins'] = df['mins'].astype(int)"
   ]
  },
  {
   "cell_type": "code",
   "execution_count": 849,
   "metadata": {
    "collapsed": true
   },
   "outputs": [],
   "source": [
    "df['NSM'] = (24*3600) - (df['hours'])*3600 - (df['mins'])*60"
   ]
  },
  {
   "cell_type": "code",
   "execution_count": 850,
   "metadata": {},
   "outputs": [
    {
     "data": {
      "text/html": [
       "<div>\n",
       "<style>\n",
       "    .dataframe thead tr:only-child th {\n",
       "        text-align: right;\n",
       "    }\n",
       "\n",
       "    .dataframe thead th {\n",
       "        text-align: left;\n",
       "    }\n",
       "\n",
       "    .dataframe tbody tr th {\n",
       "        vertical-align: top;\n",
       "    }\n",
       "</style>\n",
       "<table border=\"1\" class=\"dataframe\">\n",
       "  <thead>\n",
       "    <tr style=\"text-align: right;\">\n",
       "      <th></th>\n",
       "      <th>index</th>\n",
       "      <th>date</th>\n",
       "      <th>Appliances</th>\n",
       "      <th>lights</th>\n",
       "      <th>T1</th>\n",
       "      <th>RH_1</th>\n",
       "      <th>T2</th>\n",
       "      <th>RH_2</th>\n",
       "      <th>T3</th>\n",
       "      <th>RH_3</th>\n",
       "      <th>...</th>\n",
       "      <th>Windspeed</th>\n",
       "      <th>Visibility</th>\n",
       "      <th>Tdewpoint</th>\n",
       "      <th>Energy Consumption</th>\n",
       "      <th>date1</th>\n",
       "      <th>time</th>\n",
       "      <th>hours</th>\n",
       "      <th>mins</th>\n",
       "      <th>timevar</th>\n",
       "      <th>NSM</th>\n",
       "    </tr>\n",
       "  </thead>\n",
       "  <tbody>\n",
       "    <tr>\n",
       "      <th>0</th>\n",
       "      <td>0</td>\n",
       "      <td>1/11/2016 17:00</td>\n",
       "      <td>60</td>\n",
       "      <td>30</td>\n",
       "      <td>19.89</td>\n",
       "      <td>47.596667</td>\n",
       "      <td>19.2</td>\n",
       "      <td>44.790000</td>\n",
       "      <td>19.79</td>\n",
       "      <td>44.730000</td>\n",
       "      <td>...</td>\n",
       "      <td>7.000000</td>\n",
       "      <td>63.000000</td>\n",
       "      <td>5.3</td>\n",
       "      <td>13.275433</td>\n",
       "      <td>1/11/2016</td>\n",
       "      <td>17:00</td>\n",
       "      <td>17</td>\n",
       "      <td>0</td>\n",
       "      <td>1/11/2016/17</td>\n",
       "      <td>25200</td>\n",
       "    </tr>\n",
       "    <tr>\n",
       "      <th>1</th>\n",
       "      <td>1</td>\n",
       "      <td>1/11/2016 17:10</td>\n",
       "      <td>60</td>\n",
       "      <td>30</td>\n",
       "      <td>19.89</td>\n",
       "      <td>46.693333</td>\n",
       "      <td>19.2</td>\n",
       "      <td>44.722500</td>\n",
       "      <td>19.79</td>\n",
       "      <td>44.790000</td>\n",
       "      <td>...</td>\n",
       "      <td>6.666667</td>\n",
       "      <td>59.166667</td>\n",
       "      <td>5.2</td>\n",
       "      <td>18.606195</td>\n",
       "      <td>1/11/2016</td>\n",
       "      <td>17:10</td>\n",
       "      <td>17</td>\n",
       "      <td>10</td>\n",
       "      <td>1/11/2016/17</td>\n",
       "      <td>24600</td>\n",
       "    </tr>\n",
       "    <tr>\n",
       "      <th>2</th>\n",
       "      <td>2</td>\n",
       "      <td>1/11/2016 17:20</td>\n",
       "      <td>50</td>\n",
       "      <td>30</td>\n",
       "      <td>19.89</td>\n",
       "      <td>46.300000</td>\n",
       "      <td>19.2</td>\n",
       "      <td>44.626667</td>\n",
       "      <td>19.79</td>\n",
       "      <td>44.933333</td>\n",
       "      <td>...</td>\n",
       "      <td>6.333333</td>\n",
       "      <td>55.333333</td>\n",
       "      <td>5.1</td>\n",
       "      <td>28.642668</td>\n",
       "      <td>1/11/2016</td>\n",
       "      <td>17:20</td>\n",
       "      <td>17</td>\n",
       "      <td>20</td>\n",
       "      <td>1/11/2016/17</td>\n",
       "      <td>24000</td>\n",
       "    </tr>\n",
       "    <tr>\n",
       "      <th>3</th>\n",
       "      <td>3</td>\n",
       "      <td>1/11/2016 17:30</td>\n",
       "      <td>50</td>\n",
       "      <td>40</td>\n",
       "      <td>19.89</td>\n",
       "      <td>46.066667</td>\n",
       "      <td>19.2</td>\n",
       "      <td>44.590000</td>\n",
       "      <td>19.79</td>\n",
       "      <td>45.000000</td>\n",
       "      <td>...</td>\n",
       "      <td>6.000000</td>\n",
       "      <td>51.500000</td>\n",
       "      <td>5.0</td>\n",
       "      <td>45.410390</td>\n",
       "      <td>1/11/2016</td>\n",
       "      <td>17:30</td>\n",
       "      <td>17</td>\n",
       "      <td>30</td>\n",
       "      <td>1/11/2016/17</td>\n",
       "      <td>23400</td>\n",
       "    </tr>\n",
       "    <tr>\n",
       "      <th>4</th>\n",
       "      <td>4</td>\n",
       "      <td>1/11/2016 17:40</td>\n",
       "      <td>60</td>\n",
       "      <td>40</td>\n",
       "      <td>19.89</td>\n",
       "      <td>46.333333</td>\n",
       "      <td>19.2</td>\n",
       "      <td>44.530000</td>\n",
       "      <td>19.79</td>\n",
       "      <td>45.000000</td>\n",
       "      <td>...</td>\n",
       "      <td>5.666667</td>\n",
       "      <td>47.666667</td>\n",
       "      <td>4.9</td>\n",
       "      <td>10.084097</td>\n",
       "      <td>1/11/2016</td>\n",
       "      <td>17:40</td>\n",
       "      <td>17</td>\n",
       "      <td>40</td>\n",
       "      <td>1/11/2016/17</td>\n",
       "      <td>22800</td>\n",
       "    </tr>\n",
       "  </tbody>\n",
       "</table>\n",
       "<p>5 rows × 35 columns</p>\n",
       "</div>"
      ],
      "text/plain": [
       "   index             date  Appliances  lights     T1       RH_1    T2  \\\n",
       "0      0  1/11/2016 17:00          60      30  19.89  47.596667  19.2   \n",
       "1      1  1/11/2016 17:10          60      30  19.89  46.693333  19.2   \n",
       "2      2  1/11/2016 17:20          50      30  19.89  46.300000  19.2   \n",
       "3      3  1/11/2016 17:30          50      40  19.89  46.066667  19.2   \n",
       "4      4  1/11/2016 17:40          60      40  19.89  46.333333  19.2   \n",
       "\n",
       "        RH_2     T3       RH_3  ...    Windspeed  Visibility  Tdewpoint  \\\n",
       "0  44.790000  19.79  44.730000  ...     7.000000   63.000000        5.3   \n",
       "1  44.722500  19.79  44.790000  ...     6.666667   59.166667        5.2   \n",
       "2  44.626667  19.79  44.933333  ...     6.333333   55.333333        5.1   \n",
       "3  44.590000  19.79  45.000000  ...     6.000000   51.500000        5.0   \n",
       "4  44.530000  19.79  45.000000  ...     5.666667   47.666667        4.9   \n",
       "\n",
       "   Energy Consumption      date1   time  hours  mins       timevar    NSM  \n",
       "0           13.275433  1/11/2016  17:00     17     0  1/11/2016/17  25200  \n",
       "1           18.606195  1/11/2016  17:10     17    10  1/11/2016/17  24600  \n",
       "2           28.642668  1/11/2016  17:20     17    20  1/11/2016/17  24000  \n",
       "3           45.410390  1/11/2016  17:30     17    30  1/11/2016/17  23400  \n",
       "4           10.084097  1/11/2016  17:40     17    40  1/11/2016/17  22800  \n",
       "\n",
       "[5 rows x 35 columns]"
      ]
     },
     "execution_count": 850,
     "metadata": {},
     "output_type": "execute_result"
    }
   ],
   "source": [
    "df.head()"
   ]
  },
  {
   "cell_type": "code",
   "execution_count": 851,
   "metadata": {},
   "outputs": [
    {
     "data": {
      "text/plain": [
       "<matplotlib.text.Text at 0x2948da97cc0>"
      ]
     },
     "execution_count": 851,
     "metadata": {},
     "output_type": "execute_result"
    },
    {
     "data": {
      "image/png": "[encoded data removed]",
      "text/plain": [
       "<matplotlib.figure.Figure at 0x2948f93fcc0>"
      ]
     },
     "metadata": {},
     "output_type": "display_data"
    }
   ],
   "source": [
    "fig, ax = plt.subplots()\n",
    "ax.plot(df['NSM'], df['Energy Consumption'], 'b-', label='Energy Consumption Plot')\n",
    "plt.xlabel('NSM')\n",
    "plt.ylabel('Energy Consumption')\n",
    "plt.title('Energy Consumption for whole period')"
   ]
  },
  {
   "cell_type": "markdown",
   "metadata": {},
   "source": [
    "## part 5"
   ]
  },
  {
   "cell_type": "code",
   "execution_count": 852,
   "metadata": {},
   "outputs": [
    {
     "data": {
      "text/plain": [
       "<matplotlib.text.Text at 0x294847ad5c0>"
      ]
     },
     "execution_count": 852,
     "metadata": {},
     "output_type": "execute_result"
    },
    {
     "data": {
      "image/png": "[encoded data removed]",
      "text/plain": [
       "<matplotlib.figure.Figure at 0x2948480da20>"
      ]
     },
     "metadata": {},
     "output_type": "display_data"
    }
   ],
   "source": [
    "fig, ax = plt.subplots()\n",
    "ax.plot(df['Press_mm_hg'], df['Energy Consumption'], 'b-', label='Energy Consumption Plot')\n",
    "plt.xlabel('Press_mm_hg')\n",
    "plt.ylabel('Energy Consumption')\n",
    "plt.title('Energy Consumption for whole period')"
   ]
  },
  {
   "cell_type": "markdown",
   "metadata": {},
   "source": [
    "## part 6"
   ]
  },
  {
   "cell_type": "code",
   "execution_count": 853,
   "metadata": {
    "collapsed": true
   },
   "outputs": [],
   "source": [
    "dff = df.drop(['index', 'date', 'date1', 'time', 'hours', 'mins', 'timevar'], axis = 1)"
   ]
  },
  {
   "cell_type": "code",
   "execution_count": 854,
   "metadata": {
    "collapsed": true
   },
   "outputs": [],
   "source": [
    "#dff.dtypes"
   ]
  },
  {
   "cell_type": "code",
   "execution_count": 855,
   "metadata": {
    "collapsed": true
   },
   "outputs": [],
   "source": [
    "cols = dff.columns.tolist()\n",
    "cols = [cols[-1]] + cols[:-2] + [cols[-2]]\n",
    "dff = dff[cols]"
   ]
  },
  {
   "cell_type": "code",
   "execution_count": 856,
   "metadata": {},
   "outputs": [
    {
     "data": {
      "text/html": [
       "<div>\n",
       "<style>\n",
       "    .dataframe thead tr:only-child th {\n",
       "        text-align: right;\n",
       "    }\n",
       "\n",
       "    .dataframe thead th {\n",
       "        text-align: left;\n",
       "    }\n",
       "\n",
       "    .dataframe tbody tr th {\n",
       "        vertical-align: top;\n",
       "    }\n",
       "</style>\n",
       "<table border=\"1\" class=\"dataframe\">\n",
       "  <thead>\n",
       "    <tr style=\"text-align: right;\">\n",
       "      <th></th>\n",
       "      <th>NSM</th>\n",
       "      <th>Appliances</th>\n",
       "      <th>lights</th>\n",
       "      <th>T1</th>\n",
       "      <th>RH_1</th>\n",
       "      <th>T2</th>\n",
       "      <th>RH_2</th>\n",
       "      <th>T3</th>\n",
       "      <th>RH_3</th>\n",
       "      <th>T4</th>\n",
       "      <th>...</th>\n",
       "      <th>RH_8</th>\n",
       "      <th>T9</th>\n",
       "      <th>RH_9</th>\n",
       "      <th>T_out</th>\n",
       "      <th>Press_mm_hg</th>\n",
       "      <th>RH_out</th>\n",
       "      <th>Windspeed</th>\n",
       "      <th>Visibility</th>\n",
       "      <th>Tdewpoint</th>\n",
       "      <th>Energy Consumption</th>\n",
       "    </tr>\n",
       "  </thead>\n",
       "  <tbody>\n",
       "    <tr>\n",
       "      <th>0</th>\n",
       "      <td>25200</td>\n",
       "      <td>60</td>\n",
       "      <td>30</td>\n",
       "      <td>19.89</td>\n",
       "      <td>47.596667</td>\n",
       "      <td>19.2</td>\n",
       "      <td>44.790000</td>\n",
       "      <td>19.79</td>\n",
       "      <td>44.730000</td>\n",
       "      <td>19.000000</td>\n",
       "      <td>...</td>\n",
       "      <td>48.900000</td>\n",
       "      <td>17.033333</td>\n",
       "      <td>45.53</td>\n",
       "      <td>6.60</td>\n",
       "      <td>733.5</td>\n",
       "      <td>92.0</td>\n",
       "      <td>7.000000</td>\n",
       "      <td>63.000000</td>\n",
       "      <td>5.3</td>\n",
       "      <td>13.275433</td>\n",
       "    </tr>\n",
       "    <tr>\n",
       "      <th>1</th>\n",
       "      <td>24600</td>\n",
       "      <td>60</td>\n",
       "      <td>30</td>\n",
       "      <td>19.89</td>\n",
       "      <td>46.693333</td>\n",
       "      <td>19.2</td>\n",
       "      <td>44.722500</td>\n",
       "      <td>19.79</td>\n",
       "      <td>44.790000</td>\n",
       "      <td>19.000000</td>\n",
       "      <td>...</td>\n",
       "      <td>48.863333</td>\n",
       "      <td>17.066667</td>\n",
       "      <td>45.56</td>\n",
       "      <td>6.48</td>\n",
       "      <td>733.6</td>\n",
       "      <td>92.0</td>\n",
       "      <td>6.666667</td>\n",
       "      <td>59.166667</td>\n",
       "      <td>5.2</td>\n",
       "      <td>18.606195</td>\n",
       "    </tr>\n",
       "    <tr>\n",
       "      <th>2</th>\n",
       "      <td>24000</td>\n",
       "      <td>50</td>\n",
       "      <td>30</td>\n",
       "      <td>19.89</td>\n",
       "      <td>46.300000</td>\n",
       "      <td>19.2</td>\n",
       "      <td>44.626667</td>\n",
       "      <td>19.79</td>\n",
       "      <td>44.933333</td>\n",
       "      <td>18.926667</td>\n",
       "      <td>...</td>\n",
       "      <td>48.730000</td>\n",
       "      <td>17.000000</td>\n",
       "      <td>45.50</td>\n",
       "      <td>6.37</td>\n",
       "      <td>733.7</td>\n",
       "      <td>92.0</td>\n",
       "      <td>6.333333</td>\n",
       "      <td>55.333333</td>\n",
       "      <td>5.1</td>\n",
       "      <td>28.642668</td>\n",
       "    </tr>\n",
       "    <tr>\n",
       "      <th>3</th>\n",
       "      <td>23400</td>\n",
       "      <td>50</td>\n",
       "      <td>40</td>\n",
       "      <td>19.89</td>\n",
       "      <td>46.066667</td>\n",
       "      <td>19.2</td>\n",
       "      <td>44.590000</td>\n",
       "      <td>19.79</td>\n",
       "      <td>45.000000</td>\n",
       "      <td>18.890000</td>\n",
       "      <td>...</td>\n",
       "      <td>48.590000</td>\n",
       "      <td>17.000000</td>\n",
       "      <td>45.40</td>\n",
       "      <td>6.25</td>\n",
       "      <td>733.8</td>\n",
       "      <td>92.0</td>\n",
       "      <td>6.000000</td>\n",
       "      <td>51.500000</td>\n",
       "      <td>5.0</td>\n",
       "      <td>45.410390</td>\n",
       "    </tr>\n",
       "    <tr>\n",
       "      <th>4</th>\n",
       "      <td>22800</td>\n",
       "      <td>60</td>\n",
       "      <td>40</td>\n",
       "      <td>19.89</td>\n",
       "      <td>46.333333</td>\n",
       "      <td>19.2</td>\n",
       "      <td>44.530000</td>\n",
       "      <td>19.79</td>\n",
       "      <td>45.000000</td>\n",
       "      <td>18.890000</td>\n",
       "      <td>...</td>\n",
       "      <td>48.590000</td>\n",
       "      <td>17.000000</td>\n",
       "      <td>45.40</td>\n",
       "      <td>6.13</td>\n",
       "      <td>733.9</td>\n",
       "      <td>92.0</td>\n",
       "      <td>5.666667</td>\n",
       "      <td>47.666667</td>\n",
       "      <td>4.9</td>\n",
       "      <td>10.084097</td>\n",
       "    </tr>\n",
       "  </tbody>\n",
       "</table>\n",
       "<p>5 rows × 28 columns</p>\n",
       "</div>"
      ],
      "text/plain": [
       "     NSM  Appliances  lights     T1       RH_1    T2       RH_2     T3  \\\n",
       "0  25200          60      30  19.89  47.596667  19.2  44.790000  19.79   \n",
       "1  24600          60      30  19.89  46.693333  19.2  44.722500  19.79   \n",
       "2  24000          50      30  19.89  46.300000  19.2  44.626667  19.79   \n",
       "3  23400          50      40  19.89  46.066667  19.2  44.590000  19.79   \n",
       "4  22800          60      40  19.89  46.333333  19.2  44.530000  19.79   \n",
       "\n",
       "        RH_3         T4         ...               RH_8         T9   RH_9  \\\n",
       "0  44.730000  19.000000         ...          48.900000  17.033333  45.53   \n",
       "1  44.790000  19.000000         ...          48.863333  17.066667  45.56   \n",
       "2  44.933333  18.926667         ...          48.730000  17.000000  45.50   \n",
       "3  45.000000  18.890000         ...          48.590000  17.000000  45.40   \n",
       "4  45.000000  18.890000         ...          48.590000  17.000000  45.40   \n",
       "\n",
       "   T_out  Press_mm_hg  RH_out  Windspeed  Visibility  Tdewpoint  \\\n",
       "0   6.60        733.5    92.0   7.000000   63.000000        5.3   \n",
       "1   6.48        733.6    92.0   6.666667   59.166667        5.2   \n",
       "2   6.37        733.7    92.0   6.333333   55.333333        5.1   \n",
       "3   6.25        733.8    92.0   6.000000   51.500000        5.0   \n",
       "4   6.13        733.9    92.0   5.666667   47.666667        4.9   \n",
       "\n",
       "   Energy Consumption  \n",
       "0           13.275433  \n",
       "1           18.606195  \n",
       "2           28.642668  \n",
       "3           45.410390  \n",
       "4           10.084097  \n",
       "\n",
       "[5 rows x 28 columns]"
      ]
     },
     "execution_count": 856,
     "metadata": {},
     "output_type": "execute_result"
    }
   ],
   "source": [
    "dff.head()"
   ]
  },
  {
   "cell_type": "code",
   "execution_count": 857,
   "metadata": {
    "collapsed": true
   },
   "outputs": [],
   "source": [
    "X = dff.iloc[:,:-1]\n",
    "y = dff.iloc[:, -1]"
   ]
  },
  {
   "cell_type": "code",
   "execution_count": 858,
   "metadata": {
    "collapsed": true
   },
   "outputs": [],
   "source": [
    "#y"
   ]
  },
  {
   "cell_type": "code",
   "execution_count": 859,
   "metadata": {
    "collapsed": true
   },
   "outputs": [],
   "source": [
    "from sklearn.cross_validation import train_test_split\n",
    "X_train, X_test, y_train, y_test = train_test_split(X, y, test_size = 0.2, random_state = 0)"
   ]
  },
  {
   "cell_type": "code",
   "execution_count": 860,
   "metadata": {
    "collapsed": true
   },
   "outputs": [],
   "source": [
    "from sklearn.linear_model import LinearRegression\n",
    "LR = LinearRegression()\n",
    "LR.fit(X_train, y_train)\n",
    "y_pred = LR.predict(X_test)"
   ]
  },
  {
   "cell_type": "code",
   "execution_count": 861,
   "metadata": {
    "collapsed": true
   },
   "outputs": [],
   "source": [
    "from sklearn.metrics import mean_squared_error"
   ]
  },
  {
   "cell_type": "code",
   "execution_count": 862,
   "metadata": {},
   "outputs": [
    {
     "name": "stdout",
     "output_type": "stream",
     "text": [
      "Coefficients: \n",
      " [  2.35260352e-06  -1.33088515e-03   1.17193920e-02   2.67473290e-01\n",
      "   1.31733166e-01  -3.47334742e-01  -1.94905493e-01  -1.20805865e-01\n",
      "   6.84979022e-02   2.12398743e-01   1.15747850e-01  -2.48690560e-01\n",
      "  -1.74827088e-02   1.39108126e-02  -5.69229268e-03   4.76284731e-02\n",
      "  -2.10143574e-02  -1.52668980e-01   5.80257455e-02   3.61954292e-01\n",
      "  -1.23429481e-01  -2.54379905e-02   1.92800494e-02   2.80639359e-02\n",
      "  -1.86679101e-03  -8.22197152e-03  -3.62026201e-02]\n",
      "Mean squared error: 209.89\n"
     ]
    }
   ],
   "source": [
    "print('Coefficients: \\n', LR.coef_)\n",
    "print(\"Mean squared error: %.2f\"\n",
    "      % mean_squared_error(y_test, y_pred))"
   ]
  },
  {
   "cell_type": "markdown",
   "metadata": {},
   "source": [
    "Coefficient of Press_mm_hg is high (5th last), however coefficient of NSM (1st) is low. It is inferred that Press_mm_hg is significantly contributing but NSM doesn't."
   ]
  },
  {
   "cell_type": "code",
   "execution_count": null,
   "metadata": {
    "collapsed": true
   },
   "outputs": [],
   "source": []
  }
 ],
 "metadata": {
  "kernelspec": {
   "display_name": "Python 2",
   "language": "python",
   "name": "python2"
  },
  "language_info": {
   "codemirror_mode": {
    "name": "ipython",
    "version": 2
   },
   "file_extension": ".py",
   "mimetype": "text/x-python",
   "name": "python",
   "nbconvert_exporter": "python",
   "pygments_lexer": "ipython2",
   "version": "2.7.14"
  }
 },
 "nbformat": 4,
 "nbformat_minor": 2
}
